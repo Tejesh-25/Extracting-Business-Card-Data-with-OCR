{
  "cells": [
    {
      "cell_type": "markdown",
      "metadata": {
        "id": "view-in-github",
        "colab_type": "text"
      },
      "source": [
        "<a href=\"https://colab.research.google.com/github/Tejesh-25/Extracting-Business-Card-Data-with-OCR/blob/BizCardX/Cardekho_Price_prediction.ipynb\" target=\"_parent\"><img src=\"https://colab.research.google.com/assets/colab-badge.svg\" alt=\"Open In Colab\"/></a>"
      ]
    },
    {
      "cell_type": "markdown",
      "metadata": {
        "id": "brb80UmiNRBX"
      },
      "source": [
        "#Cardekho\n",
        "Predict the second hand car price using maching learning algorithms\n"
      ]
    },
    {
      "cell_type": "code",
      "execution_count": null,
      "metadata": {
        "id": "WeOf8AIoNqdn"
      },
      "outputs": [],
      "source": [
        "import pandas as pd\n",
        "import matplotlib.pyplot as plt\n",
        "import numpy as np"
      ]
    },
    {
      "cell_type": "code",
      "execution_count": null,
      "metadata": {
        "colab": {
          "base_uri": "https://localhost:8080/",
          "height": 206
        },
        "id": "t1TfjC9ROUG3",
        "outputId": "99663d6a-aca3-46bb-d5d7-ea90b46851b9"
      },
      "outputs": [
        {
          "output_type": "execute_result",
          "data": {
            "text/plain": [
              "                       name  year  selling_price  km_driven    fuel  \\\n",
              "0             Maruti 800 AC  2007          60000      70000  Petrol   \n",
              "1  Maruti Wagon R LXI Minor  2007         135000      50000  Petrol   \n",
              "2      Hyundai Verna 1.6 SX  2012         600000     100000  Diesel   \n",
              "3    Datsun RediGO T Option  2017         250000      46000  Petrol   \n",
              "4     Honda Amaze VX i-DTEC  2014         450000     141000  Diesel   \n",
              "\n",
              "  seller_type transmission         owner  \n",
              "0  Individual       Manual   First Owner  \n",
              "1  Individual       Manual   First Owner  \n",
              "2  Individual       Manual   First Owner  \n",
              "3  Individual       Manual   First Owner  \n",
              "4  Individual       Manual  Second Owner  "
            ],
            "text/html": [
              "\n",
              "  <div id=\"df-ff6dbb74-1fb2-4376-930c-d76cd5221dcf\" class=\"colab-df-container\">\n",
              "    <div>\n",
              "<style scoped>\n",
              "    .dataframe tbody tr th:only-of-type {\n",
              "        vertical-align: middle;\n",
              "    }\n",
              "\n",
              "    .dataframe tbody tr th {\n",
              "        vertical-align: top;\n",
              "    }\n",
              "\n",
              "    .dataframe thead th {\n",
              "        text-align: right;\n",
              "    }\n",
              "</style>\n",
              "<table border=\"1\" class=\"dataframe\">\n",
              "  <thead>\n",
              "    <tr style=\"text-align: right;\">\n",
              "      <th></th>\n",
              "      <th>name</th>\n",
              "      <th>year</th>\n",
              "      <th>selling_price</th>\n",
              "      <th>km_driven</th>\n",
              "      <th>fuel</th>\n",
              "      <th>seller_type</th>\n",
              "      <th>transmission</th>\n",
              "      <th>owner</th>\n",
              "    </tr>\n",
              "  </thead>\n",
              "  <tbody>\n",
              "    <tr>\n",
              "      <th>0</th>\n",
              "      <td>Maruti 800 AC</td>\n",
              "      <td>2007</td>\n",
              "      <td>60000</td>\n",
              "      <td>70000</td>\n",
              "      <td>Petrol</td>\n",
              "      <td>Individual</td>\n",
              "      <td>Manual</td>\n",
              "      <td>First Owner</td>\n",
              "    </tr>\n",
              "    <tr>\n",
              "      <th>1</th>\n",
              "      <td>Maruti Wagon R LXI Minor</td>\n",
              "      <td>2007</td>\n",
              "      <td>135000</td>\n",
              "      <td>50000</td>\n",
              "      <td>Petrol</td>\n",
              "      <td>Individual</td>\n",
              "      <td>Manual</td>\n",
              "      <td>First Owner</td>\n",
              "    </tr>\n",
              "    <tr>\n",
              "      <th>2</th>\n",
              "      <td>Hyundai Verna 1.6 SX</td>\n",
              "      <td>2012</td>\n",
              "      <td>600000</td>\n",
              "      <td>100000</td>\n",
              "      <td>Diesel</td>\n",
              "      <td>Individual</td>\n",
              "      <td>Manual</td>\n",
              "      <td>First Owner</td>\n",
              "    </tr>\n",
              "    <tr>\n",
              "      <th>3</th>\n",
              "      <td>Datsun RediGO T Option</td>\n",
              "      <td>2017</td>\n",
              "      <td>250000</td>\n",
              "      <td>46000</td>\n",
              "      <td>Petrol</td>\n",
              "      <td>Individual</td>\n",
              "      <td>Manual</td>\n",
              "      <td>First Owner</td>\n",
              "    </tr>\n",
              "    <tr>\n",
              "      <th>4</th>\n",
              "      <td>Honda Amaze VX i-DTEC</td>\n",
              "      <td>2014</td>\n",
              "      <td>450000</td>\n",
              "      <td>141000</td>\n",
              "      <td>Diesel</td>\n",
              "      <td>Individual</td>\n",
              "      <td>Manual</td>\n",
              "      <td>Second Owner</td>\n",
              "    </tr>\n",
              "  </tbody>\n",
              "</table>\n",
              "</div>\n",
              "    <div class=\"colab-df-buttons\">\n",
              "\n",
              "  <div class=\"colab-df-container\">\n",
              "    <button class=\"colab-df-convert\" onclick=\"convertToInteractive('df-ff6dbb74-1fb2-4376-930c-d76cd5221dcf')\"\n",
              "            title=\"Convert this dataframe to an interactive table.\"\n",
              "            style=\"display:none;\">\n",
              "\n",
              "  <svg xmlns=\"http://www.w3.org/2000/svg\" height=\"24px\" viewBox=\"0 -960 960 960\">\n",
              "    <path d=\"M120-120v-720h720v720H120Zm60-500h600v-160H180v160Zm220 220h160v-160H400v160Zm0 220h160v-160H400v160ZM180-400h160v-160H180v160Zm440 0h160v-160H620v160ZM180-180h160v-160H180v160Zm440 0h160v-160H620v160Z\"/>\n",
              "  </svg>\n",
              "    </button>\n",
              "\n",
              "  <style>\n",
              "    .colab-df-container {\n",
              "      display:flex;\n",
              "      gap: 12px;\n",
              "    }\n",
              "\n",
              "    .colab-df-convert {\n",
              "      background-color: #E8F0FE;\n",
              "      border: none;\n",
              "      border-radius: 50%;\n",
              "      cursor: pointer;\n",
              "      display: none;\n",
              "      fill: #1967D2;\n",
              "      height: 32px;\n",
              "      padding: 0 0 0 0;\n",
              "      width: 32px;\n",
              "    }\n",
              "\n",
              "    .colab-df-convert:hover {\n",
              "      background-color: #E2EBFA;\n",
              "      box-shadow: 0px 1px 2px rgba(60, 64, 67, 0.3), 0px 1px 3px 1px rgba(60, 64, 67, 0.15);\n",
              "      fill: #174EA6;\n",
              "    }\n",
              "\n",
              "    .colab-df-buttons div {\n",
              "      margin-bottom: 4px;\n",
              "    }\n",
              "\n",
              "    [theme=dark] .colab-df-convert {\n",
              "      background-color: #3B4455;\n",
              "      fill: #D2E3FC;\n",
              "    }\n",
              "\n",
              "    [theme=dark] .colab-df-convert:hover {\n",
              "      background-color: #434B5C;\n",
              "      box-shadow: 0px 1px 3px 1px rgba(0, 0, 0, 0.15);\n",
              "      filter: drop-shadow(0px 1px 2px rgba(0, 0, 0, 0.3));\n",
              "      fill: #FFFFFF;\n",
              "    }\n",
              "  </style>\n",
              "\n",
              "    <script>\n",
              "      const buttonEl =\n",
              "        document.querySelector('#df-ff6dbb74-1fb2-4376-930c-d76cd5221dcf button.colab-df-convert');\n",
              "      buttonEl.style.display =\n",
              "        google.colab.kernel.accessAllowed ? 'block' : 'none';\n",
              "\n",
              "      async function convertToInteractive(key) {\n",
              "        const element = document.querySelector('#df-ff6dbb74-1fb2-4376-930c-d76cd5221dcf');\n",
              "        const dataTable =\n",
              "          await google.colab.kernel.invokeFunction('convertToInteractive',\n",
              "                                                    [key], {});\n",
              "        if (!dataTable) return;\n",
              "\n",
              "        const docLinkHtml = 'Like what you see? Visit the ' +\n",
              "          '<a target=\"_blank\" href=https://colab.research.google.com/notebooks/data_table.ipynb>data table notebook</a>'\n",
              "          + ' to learn more about interactive tables.';\n",
              "        element.innerHTML = '';\n",
              "        dataTable['output_type'] = 'display_data';\n",
              "        await google.colab.output.renderOutput(dataTable, element);\n",
              "        const docLink = document.createElement('div');\n",
              "        docLink.innerHTML = docLinkHtml;\n",
              "        element.appendChild(docLink);\n",
              "      }\n",
              "    </script>\n",
              "  </div>\n",
              "\n",
              "\n",
              "<div id=\"df-4deb6f33-facd-4e26-b3b7-597d1fcd2653\">\n",
              "  <button class=\"colab-df-quickchart\" onclick=\"quickchart('df-4deb6f33-facd-4e26-b3b7-597d1fcd2653')\"\n",
              "            title=\"Suggest charts.\"\n",
              "            style=\"display:none;\">\n",
              "\n",
              "<svg xmlns=\"http://www.w3.org/2000/svg\" height=\"24px\"viewBox=\"0 0 24 24\"\n",
              "     width=\"24px\">\n",
              "    <g>\n",
              "        <path d=\"M19 3H5c-1.1 0-2 .9-2 2v14c0 1.1.9 2 2 2h14c1.1 0 2-.9 2-2V5c0-1.1-.9-2-2-2zM9 17H7v-7h2v7zm4 0h-2V7h2v10zm4 0h-2v-4h2v4z\"/>\n",
              "    </g>\n",
              "</svg>\n",
              "  </button>\n",
              "\n",
              "<style>\n",
              "  .colab-df-quickchart {\n",
              "      --bg-color: #E8F0FE;\n",
              "      --fill-color: #1967D2;\n",
              "      --hover-bg-color: #E2EBFA;\n",
              "      --hover-fill-color: #174EA6;\n",
              "      --disabled-fill-color: #AAA;\n",
              "      --disabled-bg-color: #DDD;\n",
              "  }\n",
              "\n",
              "  [theme=dark] .colab-df-quickchart {\n",
              "      --bg-color: #3B4455;\n",
              "      --fill-color: #D2E3FC;\n",
              "      --hover-bg-color: #434B5C;\n",
              "      --hover-fill-color: #FFFFFF;\n",
              "      --disabled-bg-color: #3B4455;\n",
              "      --disabled-fill-color: #666;\n",
              "  }\n",
              "\n",
              "  .colab-df-quickchart {\n",
              "    background-color: var(--bg-color);\n",
              "    border: none;\n",
              "    border-radius: 50%;\n",
              "    cursor: pointer;\n",
              "    display: none;\n",
              "    fill: var(--fill-color);\n",
              "    height: 32px;\n",
              "    padding: 0;\n",
              "    width: 32px;\n",
              "  }\n",
              "\n",
              "  .colab-df-quickchart:hover {\n",
              "    background-color: var(--hover-bg-color);\n",
              "    box-shadow: 0 1px 2px rgba(60, 64, 67, 0.3), 0 1px 3px 1px rgba(60, 64, 67, 0.15);\n",
              "    fill: var(--button-hover-fill-color);\n",
              "  }\n",
              "\n",
              "  .colab-df-quickchart-complete:disabled,\n",
              "  .colab-df-quickchart-complete:disabled:hover {\n",
              "    background-color: var(--disabled-bg-color);\n",
              "    fill: var(--disabled-fill-color);\n",
              "    box-shadow: none;\n",
              "  }\n",
              "\n",
              "  .colab-df-spinner {\n",
              "    border: 2px solid var(--fill-color);\n",
              "    border-color: transparent;\n",
              "    border-bottom-color: var(--fill-color);\n",
              "    animation:\n",
              "      spin 1s steps(1) infinite;\n",
              "  }\n",
              "\n",
              "  @keyframes spin {\n",
              "    0% {\n",
              "      border-color: transparent;\n",
              "      border-bottom-color: var(--fill-color);\n",
              "      border-left-color: var(--fill-color);\n",
              "    }\n",
              "    20% {\n",
              "      border-color: transparent;\n",
              "      border-left-color: var(--fill-color);\n",
              "      border-top-color: var(--fill-color);\n",
              "    }\n",
              "    30% {\n",
              "      border-color: transparent;\n",
              "      border-left-color: var(--fill-color);\n",
              "      border-top-color: var(--fill-color);\n",
              "      border-right-color: var(--fill-color);\n",
              "    }\n",
              "    40% {\n",
              "      border-color: transparent;\n",
              "      border-right-color: var(--fill-color);\n",
              "      border-top-color: var(--fill-color);\n",
              "    }\n",
              "    60% {\n",
              "      border-color: transparent;\n",
              "      border-right-color: var(--fill-color);\n",
              "    }\n",
              "    80% {\n",
              "      border-color: transparent;\n",
              "      border-right-color: var(--fill-color);\n",
              "      border-bottom-color: var(--fill-color);\n",
              "    }\n",
              "    90% {\n",
              "      border-color: transparent;\n",
              "      border-bottom-color: var(--fill-color);\n",
              "    }\n",
              "  }\n",
              "</style>\n",
              "\n",
              "  <script>\n",
              "    async function quickchart(key) {\n",
              "      const quickchartButtonEl =\n",
              "        document.querySelector('#' + key + ' button');\n",
              "      quickchartButtonEl.disabled = true;  // To prevent multiple clicks.\n",
              "      quickchartButtonEl.classList.add('colab-df-spinner');\n",
              "      try {\n",
              "        const charts = await google.colab.kernel.invokeFunction(\n",
              "            'suggestCharts', [key], {});\n",
              "      } catch (error) {\n",
              "        console.error('Error during call to suggestCharts:', error);\n",
              "      }\n",
              "      quickchartButtonEl.classList.remove('colab-df-spinner');\n",
              "      quickchartButtonEl.classList.add('colab-df-quickchart-complete');\n",
              "    }\n",
              "    (() => {\n",
              "      let quickchartButtonEl =\n",
              "        document.querySelector('#df-4deb6f33-facd-4e26-b3b7-597d1fcd2653 button');\n",
              "      quickchartButtonEl.style.display =\n",
              "        google.colab.kernel.accessAllowed ? 'block' : 'none';\n",
              "    })();\n",
              "  </script>\n",
              "</div>\n",
              "    </div>\n",
              "  </div>\n"
            ]
          },
          "metadata": {},
          "execution_count": 2
        }
      ],
      "source": [
        "df=pd.read_excel(\"/content/CAR DETAILS FROM CAR DEKHO.xlsx\")\n",
        "df.head()"
      ]
    },
    {
      "cell_type": "code",
      "execution_count": null,
      "metadata": {
        "colab": {
          "base_uri": "https://localhost:8080/"
        },
        "id": "jDdHlSN4Pc4Q",
        "outputId": "c8ae7dbc-23b7-425e-c91d-8da888cc2eb8"
      },
      "outputs": [
        {
          "output_type": "execute_result",
          "data": {
            "text/plain": [
              "(4340, 8)"
            ]
          },
          "metadata": {},
          "execution_count": 3
        }
      ],
      "source": [
        "df.shape"
      ]
    },
    {
      "cell_type": "code",
      "execution_count": null,
      "metadata": {
        "id": "q2J0Fg12Pf0A"
      },
      "outputs": [],
      "source": [
        "# In the above dataframe there are 4340 rows and 8 columns or features"
      ]
    },
    {
      "cell_type": "code",
      "execution_count": null,
      "metadata": {
        "colab": {
          "base_uri": "https://localhost:8080/"
        },
        "id": "aUZQhf_RPE6v",
        "outputId": "07fb538e-f01b-4b3e-e868-bf2be199b1be"
      },
      "outputs": [
        {
          "output_type": "stream",
          "name": "stdout",
          "text": [
            "<class 'pandas.core.frame.DataFrame'>\n",
            "RangeIndex: 4340 entries, 0 to 4339\n",
            "Data columns (total 8 columns):\n",
            " #   Column         Non-Null Count  Dtype \n",
            "---  ------         --------------  ----- \n",
            " 0   name           4340 non-null   object\n",
            " 1   year           4340 non-null   int64 \n",
            " 2   selling_price  4340 non-null   int64 \n",
            " 3   km_driven      4340 non-null   int64 \n",
            " 4   fuel           4340 non-null   object\n",
            " 5   seller_type    4340 non-null   object\n",
            " 6   transmission   4340 non-null   object\n",
            " 7   owner          4340 non-null   object\n",
            "dtypes: int64(3), object(5)\n",
            "memory usage: 271.4+ KB\n"
          ]
        }
      ],
      "source": [
        "df.info()"
      ]
    },
    {
      "cell_type": "markdown",
      "metadata": {
        "id": "_AwPAGUCQSlR"
      },
      "source": [
        " With the help df.info function I found there is no null values i.e. there is no missing values in the dataset and the datatypes are metioned properly so, I can move further.The next step is to change the categorical variable to numeric from with help of encoding."
      ]
    },
    {
      "cell_type": "code",
      "execution_count": null,
      "metadata": {
        "colab": {
          "base_uri": "https://localhost:8080/"
        },
        "id": "2ov-_5-gP9we",
        "outputId": "326b21c0-dae5-4118-f320-c9f30598cc1d"
      },
      "outputs": [
        {
          "output_type": "execute_result",
          "data": {
            "text/plain": [
              "First Owner             2832\n",
              "Second Owner            1106\n",
              "Third Owner              304\n",
              "Fourth & Above Owner      81\n",
              "Test Drive Car            17\n",
              "Name: owner, dtype: int64"
            ]
          },
          "metadata": {},
          "execution_count": 5
        }
      ],
      "source": [
        "df['owner'].value_counts()"
      ]
    },
    {
      "cell_type": "markdown",
      "metadata": {
        "id": "uk7luMnCR-u_"
      },
      "source": [
        "In the above dataframe the owner is the categorical variable so I need to covert the categorical variable to numerical variable.I perfered ordinal encoding because first owner and test driver car has higher price in the market compare to second owner, third owner and forth and above owner.\n",
        "so, I am going to give:\n",
        "\n",
        "4- first owner and test driver car\n",
        "3- second owner\n",
        "2- third owner\n",
        "1- forth and above owner"
      ]
    },
    {
      "cell_type": "code",
      "execution_count": null,
      "metadata": {
        "id": "0v5dfIURTJQX"
      },
      "outputs": [],
      "source": [
        "mapping_owner={\"First Owner\":4,\"Test Drive Car\":4,\"Second Owner\":3,\"Third Owner\":2,\"Fourth & Above Owner\":1}\n",
        "df['owner']=df['owner'].map(mapping_owner)"
      ]
    },
    {
      "cell_type": "code",
      "execution_count": null,
      "metadata": {
        "colab": {
          "base_uri": "https://localhost:8080/"
        },
        "id": "dnOqJKsSTjhi",
        "outputId": "14adac12-7c7e-47a0-b343-da2233b2db4d"
      },
      "outputs": [
        {
          "output_type": "execute_result",
          "data": {
            "text/plain": [
              "False    4340\n",
              "Name: owner, dtype: int64"
            ]
          },
          "metadata": {},
          "execution_count": 7
        }
      ],
      "source": [
        "df['owner'].isnull().value_counts()"
      ]
    },
    {
      "cell_type": "code",
      "execution_count": null,
      "metadata": {
        "colab": {
          "base_uri": "https://localhost:8080/"
        },
        "id": "WO9YjkLZTtOH",
        "outputId": "e1e48592-d5cf-4e5c-835f-98ca06fd51a2"
      },
      "outputs": [
        {
          "output_type": "execute_result",
          "data": {
            "text/plain": [
              "Manual       3892\n",
              "Automatic     448\n",
              "Name: transmission, dtype: int64"
            ]
          },
          "metadata": {},
          "execution_count": 8
        }
      ],
      "source": [
        "df['transmission'].value_counts()"
      ]
    },
    {
      "cell_type": "code",
      "execution_count": null,
      "metadata": {
        "colab": {
          "base_uri": "https://localhost:8080/"
        },
        "id": "uw4RN1LNUNwf",
        "outputId": "5c4b24ff-b482-4155-8b5f-99d3c2c80283"
      },
      "outputs": [
        {
          "output_type": "execute_result",
          "data": {
            "text/plain": [
              "12      1650000\n",
              "25      1650000\n",
              "29      1964999\n",
              "30      1425000\n",
              "31       975000\n",
              "         ...   \n",
              "4300     999000\n",
              "4302    1050000\n",
              "4304    3899000\n",
              "4311    1900000\n",
              "4313    2800000\n",
              "Name: selling_price, Length: 448, dtype: int64"
            ]
          },
          "metadata": {},
          "execution_count": 9
        }
      ],
      "source": [
        "df[df['transmission']=='Automatic']['selling_price']"
      ]
    },
    {
      "cell_type": "code",
      "execution_count": null,
      "metadata": {
        "colab": {
          "base_uri": "https://localhost:8080/"
        },
        "id": "fABSSgF-WHUw",
        "outputId": "6ab7608e-55a1-45bc-efd1-4472216837f6"
      },
      "outputs": [
        {
          "output_type": "execute_result",
          "data": {
            "text/plain": [
              "0        60000\n",
              "1       135000\n",
              "2       600000\n",
              "3       250000\n",
              "4       450000\n",
              "         ...  \n",
              "4335    409999\n",
              "4336    409999\n",
              "4337    110000\n",
              "4338    865000\n",
              "4339    225000\n",
              "Name: selling_price, Length: 3892, dtype: int64"
            ]
          },
          "metadata": {},
          "execution_count": 10
        }
      ],
      "source": [
        "df[df['transmission']=='Manual']['selling_price']"
      ]
    },
    {
      "cell_type": "code",
      "execution_count": null,
      "metadata": {
        "colab": {
          "base_uri": "https://localhost:8080/",
          "height": 445
        },
        "id": "aLoH56rJDJud",
        "outputId": "dfef26d9-3d9b-4b83-9b7b-214ce713f7e7"
      },
      "outputs": [
        {
          "data": {
            "image/png": "[encoded data removed]",
            "text/plain": [
              "<Figure size 640x480 with 1 Axes>"
            ]
          },
          "metadata": {},
          "output_type": "display_data"
        }
      ],
      "source": [
        "x=df['transmission']\n",
        "y=df['selling_price']\n",
        "plt.bar(x,y)\n",
        "plt.show()"
      ]
    },
    {
      "cell_type": "markdown",
      "metadata": {
        "id": "-3r0iV8eWcvX"
      },
      "source": [
        "With the help above details I can infer that the Automatic cars are sold in higher price than the Manual Cars. I can do the ordinal encoding like :\n",
        "\n",
        "Automatic -2\n",
        "Manual -1"
      ]
    },
    {
      "cell_type": "code",
      "execution_count": null,
      "metadata": {
        "id": "IkCOhlupXLYH"
      },
      "outputs": [],
      "source": [
        "mapping_transmission={\"Manual\":1,\"Automatic\":2}\n",
        "df['transmission']=df['transmission'].map(mapping_transmission)"
      ]
    },
    {
      "cell_type": "code",
      "execution_count": null,
      "metadata": {
        "colab": {
          "base_uri": "https://localhost:8080/"
        },
        "id": "8AeOKmrgXgQC",
        "outputId": "a820d057-3e75-449e-f946-17e283b31f03"
      },
      "outputs": [
        {
          "output_type": "execute_result",
          "data": {
            "text/plain": [
              "False    4340\n",
              "Name: transmission, dtype: int64"
            ]
          },
          "metadata": {},
          "execution_count": 13
        }
      ],
      "source": [
        "df['transmission'].isnull().value_counts()"
      ]
    },
    {
      "cell_type": "code",
      "execution_count": null,
      "metadata": {
        "colab": {
          "base_uri": "https://localhost:8080/",
          "height": 206
        },
        "id": "2ATTd3RSXoDA",
        "outputId": "42ace4e8-8462-4591-95e8-741bde88d9e9"
      },
      "outputs": [
        {
          "output_type": "execute_result",
          "data": {
            "text/plain": [
              "                       name  year  selling_price  km_driven    fuel  \\\n",
              "0             Maruti 800 AC  2007          60000      70000  Petrol   \n",
              "1  Maruti Wagon R LXI Minor  2007         135000      50000  Petrol   \n",
              "2      Hyundai Verna 1.6 SX  2012         600000     100000  Diesel   \n",
              "3    Datsun RediGO T Option  2017         250000      46000  Petrol   \n",
              "4     Honda Amaze VX i-DTEC  2014         450000     141000  Diesel   \n",
              "\n",
              "  seller_type  transmission  owner  \n",
              "0  Individual             1      4  \n",
              "1  Individual             1      4  \n",
              "2  Individual             1      4  \n",
              "3  Individual             1      4  \n",
              "4  Individual             1      3  "
            ],
            "text/html": [
              "\n",
              "  <div id=\"df-850b3b68-1046-46bd-89c0-f092a31a1372\" class=\"colab-df-container\">\n",
              "    <div>\n",
              "<style scoped>\n",
              "    .dataframe tbody tr th:only-of-type {\n",
              "        vertical-align: middle;\n",
              "    }\n",
              "\n",
              "    .dataframe tbody tr th {\n",
              "        vertical-align: top;\n",
              "    }\n",
              "\n",
              "    .dataframe thead th {\n",
              "        text-align: right;\n",
              "    }\n",
              "</style>\n",
              "<table border=\"1\" class=\"dataframe\">\n",
              "  <thead>\n",
              "    <tr style=\"text-align: right;\">\n",
              "      <th></th>\n",
              "      <th>name</th>\n",
              "      <th>year</th>\n",
              "      <th>selling_price</th>\n",
              "      <th>km_driven</th>\n",
              "      <th>fuel</th>\n",
              "      <th>seller_type</th>\n",
              "      <th>transmission</th>\n",
              "      <th>owner</th>\n",
              "    </tr>\n",
              "  </thead>\n",
              "  <tbody>\n",
              "    <tr>\n",
              "      <th>0</th>\n",
              "      <td>Maruti 800 AC</td>\n",
              "      <td>2007</td>\n",
              "      <td>60000</td>\n",
              "      <td>70000</td>\n",
              "      <td>Petrol</td>\n",
              "      <td>Individual</td>\n",
              "      <td>1</td>\n",
              "      <td>4</td>\n",
              "    </tr>\n",
              "    <tr>\n",
              "      <th>1</th>\n",
              "      <td>Maruti Wagon R LXI Minor</td>\n",
              "      <td>2007</td>\n",
              "      <td>135000</td>\n",
              "      <td>50000</td>\n",
              "      <td>Petrol</td>\n",
              "      <td>Individual</td>\n",
              "      <td>1</td>\n",
              "      <td>4</td>\n",
              "    </tr>\n",
              "    <tr>\n",
              "      <th>2</th>\n",
              "      <td>Hyundai Verna 1.6 SX</td>\n",
              "      <td>2012</td>\n",
              "      <td>600000</td>\n",
              "      <td>100000</td>\n",
              "      <td>Diesel</td>\n",
              "      <td>Individual</td>\n",
              "      <td>1</td>\n",
              "      <td>4</td>\n",
              "    </tr>\n",
              "    <tr>\n",
              "      <th>3</th>\n",
              "      <td>Datsun RediGO T Option</td>\n",
              "      <td>2017</td>\n",
              "      <td>250000</td>\n",
              "      <td>46000</td>\n",
              "      <td>Petrol</td>\n",
              "      <td>Individual</td>\n",
              "      <td>1</td>\n",
              "      <td>4</td>\n",
              "    </tr>\n",
              "    <tr>\n",
              "      <th>4</th>\n",
              "      <td>Honda Amaze VX i-DTEC</td>\n",
              "      <td>2014</td>\n",
              "      <td>450000</td>\n",
              "      <td>141000</td>\n",
              "      <td>Diesel</td>\n",
              "      <td>Individual</td>\n",
              "      <td>1</td>\n",
              "      <td>3</td>\n",
              "    </tr>\n",
              "  </tbody>\n",
              "</table>\n",
              "</div>\n",
              "    <div class=\"colab-df-buttons\">\n",
              "\n",
              "  <div class=\"colab-df-container\">\n",
              "    <button class=\"colab-df-convert\" onclick=\"convertToInteractive('df-850b3b68-1046-46bd-89c0-f092a31a1372')\"\n",
              "            title=\"Convert this dataframe to an interactive table.\"\n",
              "            style=\"display:none;\">\n",
              "\n",
              "  <svg xmlns=\"http://www.w3.org/2000/svg\" height=\"24px\" viewBox=\"0 -960 960 960\">\n",
              "    <path d=\"M120-120v-720h720v720H120Zm60-500h600v-160H180v160Zm220 220h160v-160H400v160Zm0 220h160v-160H400v160ZM180-400h160v-160H180v160Zm440 0h160v-160H620v160ZM180-180h160v-160H180v160Zm440 0h160v-160H620v160Z\"/>\n",
              "  </svg>\n",
              "    </button>\n",
              "\n",
              "  <style>\n",
              "    .colab-df-container {\n",
              "      display:flex;\n",
              "      gap: 12px;\n",
              "    }\n",
              "\n",
              "    .colab-df-convert {\n",
              "      background-color: #E8F0FE;\n",
              "      border: none;\n",
              "      border-radius: 50%;\n",
              "      cursor: pointer;\n",
              "      display: none;\n",
              "      fill: #1967D2;\n",
              "      height: 32px;\n",
              "      padding: 0 0 0 0;\n",
              "      width: 32px;\n",
              "    }\n",
              "\n",
              "    .colab-df-convert:hover {\n",
              "      background-color: #E2EBFA;\n",
              "      box-shadow: 0px 1px 2px rgba(60, 64, 67, 0.3), 0px 1px 3px 1px rgba(60, 64, 67, 0.15);\n",
              "      fill: #174EA6;\n",
              "    }\n",
              "\n",
              "    .colab-df-buttons div {\n",
              "      margin-bottom: 4px;\n",
              "    }\n",
              "\n",
              "    [theme=dark] .colab-df-convert {\n",
              "      background-color: #3B4455;\n",
              "      fill: #D2E3FC;\n",
              "    }\n",
              "\n",
              "    [theme=dark] .colab-df-convert:hover {\n",
              "      background-color: #434B5C;\n",
              "      box-shadow: 0px 1px 3px 1px rgba(0, 0, 0, 0.15);\n",
              "      filter: drop-shadow(0px 1px 2px rgba(0, 0, 0, 0.3));\n",
              "      fill: #FFFFFF;\n",
              "    }\n",
              "  </style>\n",
              "\n",
              "    <script>\n",
              "      const buttonEl =\n",
              "        document.querySelector('#df-850b3b68-1046-46bd-89c0-f092a31a1372 button.colab-df-convert');\n",
              "      buttonEl.style.display =\n",
              "        google.colab.kernel.accessAllowed ? 'block' : 'none';\n",
              "\n",
              "      async function convertToInteractive(key) {\n",
              "        const element = document.querySelector('#df-850b3b68-1046-46bd-89c0-f092a31a1372');\n",
              "        const dataTable =\n",
              "          await google.colab.kernel.invokeFunction('convertToInteractive',\n",
              "                                                    [key], {});\n",
              "        if (!dataTable) return;\n",
              "\n",
              "        const docLinkHtml = 'Like what you see? Visit the ' +\n",
              "          '<a target=\"_blank\" href=https://colab.research.google.com/notebooks/data_table.ipynb>data table notebook</a>'\n",
              "          + ' to learn more about interactive tables.';\n",
              "        element.innerHTML = '';\n",
              "        dataTable['output_type'] = 'display_data';\n",
              "        await google.colab.output.renderOutput(dataTable, element);\n",
              "        const docLink = document.createElement('div');\n",
              "        docLink.innerHTML = docLinkHtml;\n",
              "        element.appendChild(docLink);\n",
              "      }\n",
              "    </script>\n",
              "  </div>\n",
              "\n",
              "\n",
              "<div id=\"df-b006f56f-2192-44da-ba56-0bbc9334ea6c\">\n",
              "  <button class=\"colab-df-quickchart\" onclick=\"quickchart('df-b006f56f-2192-44da-ba56-0bbc9334ea6c')\"\n",
              "            title=\"Suggest charts.\"\n",
              "            style=\"display:none;\">\n",
              "\n",
              "<svg xmlns=\"http://www.w3.org/2000/svg\" height=\"24px\"viewBox=\"0 0 24 24\"\n",
              "     width=\"24px\">\n",
              "    <g>\n",
              "        <path d=\"M19 3H5c-1.1 0-2 .9-2 2v14c0 1.1.9 2 2 2h14c1.1 0 2-.9 2-2V5c0-1.1-.9-2-2-2zM9 17H7v-7h2v7zm4 0h-2V7h2v10zm4 0h-2v-4h2v4z\"/>\n",
              "    </g>\n",
              "</svg>\n",
              "  </button>\n",
              "\n",
              "<style>\n",
              "  .colab-df-quickchart {\n",
              "      --bg-color: #E8F0FE;\n",
              "      --fill-color: #1967D2;\n",
              "      --hover-bg-color: #E2EBFA;\n",
              "      --hover-fill-color: #174EA6;\n",
              "      --disabled-fill-color: #AAA;\n",
              "      --disabled-bg-color: #DDD;\n",
              "  }\n",
              "\n",
              "  [theme=dark] .colab-df-quickchart {\n",
              "      --bg-color: #3B4455;\n",
              "      --fill-color: #D2E3FC;\n",
              "      --hover-bg-color: #434B5C;\n",
              "      --hover-fill-color: #FFFFFF;\n",
              "      --disabled-bg-color: #3B4455;\n",
              "      --disabled-fill-color: #666;\n",
              "  }\n",
              "\n",
              "  .colab-df-quickchart {\n",
              "    background-color: var(--bg-color);\n",
              "    border: none;\n",
              "    border-radius: 50%;\n",
              "    cursor: pointer;\n",
              "    display: none;\n",
              "    fill: var(--fill-color);\n",
              "    height: 32px;\n",
              "    padding: 0;\n",
              "    width: 32px;\n",
              "  }\n",
              "\n",
              "  .colab-df-quickchart:hover {\n",
              "    background-color: var(--hover-bg-color);\n",
              "    box-shadow: 0 1px 2px rgba(60, 64, 67, 0.3), 0 1px 3px 1px rgba(60, 64, 67, 0.15);\n",
              "    fill: var(--button-hover-fill-color);\n",
              "  }\n",
              "\n",
              "  .colab-df-quickchart-complete:disabled,\n",
              "  .colab-df-quickchart-complete:disabled:hover {\n",
              "    background-color: var(--disabled-bg-color);\n",
              "    fill: var(--disabled-fill-color);\n",
              "    box-shadow: none;\n",
              "  }\n",
              "\n",
              "  .colab-df-spinner {\n",
              "    border: 2px solid var(--fill-color);\n",
              "    border-color: transparent;\n",
              "    border-bottom-color: var(--fill-color);\n",
              "    animation:\n",
              "      spin 1s steps(1) infinite;\n",
              "  }\n",
              "\n",
              "  @keyframes spin {\n",
              "    0% {\n",
              "      border-color: transparent;\n",
              "      border-bottom-color: var(--fill-color);\n",
              "      border-left-color: var(--fill-color);\n",
              "    }\n",
              "    20% {\n",
              "      border-color: transparent;\n",
              "      border-left-color: var(--fill-color);\n",
              "      border-top-color: var(--fill-color);\n",
              "    }\n",
              "    30% {\n",
              "      border-color: transparent;\n",
              "      border-left-color: var(--fill-color);\n",
              "      border-top-color: var(--fill-color);\n",
              "      border-right-color: var(--fill-color);\n",
              "    }\n",
              "    40% {\n",
              "      border-color: transparent;\n",
              "      border-right-color: var(--fill-color);\n",
              "      border-top-color: var(--fill-color);\n",
              "    }\n",
              "    60% {\n",
              "      border-color: transparent;\n",
              "      border-right-color: var(--fill-color);\n",
              "    }\n",
              "    80% {\n",
              "      border-color: transparent;\n",
              "      border-right-color: var(--fill-color);\n",
              "      border-bottom-color: var(--fill-color);\n",
              "    }\n",
              "    90% {\n",
              "      border-color: transparent;\n",
              "      border-bottom-color: var(--fill-color);\n",
              "    }\n",
              "  }\n",
              "</style>\n",
              "\n",
              "  <script>\n",
              "    async function quickchart(key) {\n",
              "      const quickchartButtonEl =\n",
              "        document.querySelector('#' + key + ' button');\n",
              "      quickchartButtonEl.disabled = true;  // To prevent multiple clicks.\n",
              "      quickchartButtonEl.classList.add('colab-df-spinner');\n",
              "      try {\n",
              "        const charts = await google.colab.kernel.invokeFunction(\n",
              "            'suggestCharts', [key], {});\n",
              "      } catch (error) {\n",
              "        console.error('Error during call to suggestCharts:', error);\n",
              "      }\n",
              "      quickchartButtonEl.classList.remove('colab-df-spinner');\n",
              "      quickchartButtonEl.classList.add('colab-df-quickchart-complete');\n",
              "    }\n",
              "    (() => {\n",
              "      let quickchartButtonEl =\n",
              "        document.querySelector('#df-b006f56f-2192-44da-ba56-0bbc9334ea6c button');\n",
              "      quickchartButtonEl.style.display =\n",
              "        google.colab.kernel.accessAllowed ? 'block' : 'none';\n",
              "    })();\n",
              "  </script>\n",
              "</div>\n",
              "    </div>\n",
              "  </div>\n"
            ]
          },
          "metadata": {},
          "execution_count": 14
        }
      ],
      "source": [
        "df.head()"
      ]
    },
    {
      "cell_type": "code",
      "execution_count": null,
      "metadata": {
        "colab": {
          "base_uri": "https://localhost:8080/"
        },
        "id": "Z941MgFAYBXf",
        "outputId": "4caf7d34-e127-44ed-d094-38a0963769c4"
      },
      "outputs": [
        {
          "output_type": "execute_result",
          "data": {
            "text/plain": [
              "Individual          3244\n",
              "Dealer               994\n",
              "Trustmark Dealer     102\n",
              "Name: seller_type, dtype: int64"
            ]
          },
          "metadata": {},
          "execution_count": 15
        }
      ],
      "source": [
        "df['seller_type'].value_counts()"
      ]
    },
    {
      "cell_type": "code",
      "execution_count": null,
      "metadata": {
        "colab": {
          "base_uri": "https://localhost:8080/",
          "height": 445
        },
        "id": "AemilEhHYJS3",
        "outputId": "42c363cb-987b-4024-b407-cbe436d72325"
      },
      "outputs": [
        {
          "output_type": "display_data",
          "data": {
            "text/plain": [
              "<Figure size 640x480 with 1 Axes>"
            ],
            "image/png": "[encoded data removed]"
          },
          "metadata": {}
        }
      ],
      "source": [
        "x=df['seller_type']\n",
        "y=df['selling_price']\n",
        "plt.bar(x,y)\n",
        "plt.show()"
      ]
    },
    {
      "cell_type": "code",
      "execution_count": null,
      "metadata": {
        "colab": {
          "base_uri": "https://localhost:8080/"
        },
        "id": "sV4yzKGnZIq4",
        "outputId": "ef461ab9-953f-4297-ae7c-9d625d0304b9"
      },
      "outputs": [
        {
          "output_type": "stream",
          "name": "stdout",
          "text": [
            "2600000 8900000 4800000\n"
          ]
        }
      ],
      "source": [
        "max_trustmarkdealer=df[df['seller_type']=='Trustmark Dealer']['selling_price'].max()\n",
        "max_dealer=df[df['seller_type']=='Dealer']['selling_price'].max()\n",
        "max_individual=df[df['seller_type']=='Individual']['selling_price'].max()\n",
        "print(max_trustmarkdealer,max_dealer,max_individual)"
      ]
    },
    {
      "cell_type": "markdown",
      "metadata": {
        "id": "vEEQcl9NaPv4"
      },
      "source": [
        "According to bar graph as well as maximum price for the three different seller type the higher weightage goes to the Dealer first, second to the Individual and third to the trustmark dealer.\n",
        "dealer-3\n",
        "Individual-2\n",
        "trustmarkdealer-1"
      ]
    },
    {
      "cell_type": "code",
      "execution_count": null,
      "metadata": {
        "id": "S9PzY0IEbC45"
      },
      "outputs": [],
      "source": [
        "mapping_sellerType={\"Individual\":2,\"Dealer\":3,\"Trustmark Dealer\":1}\n",
        "df['seller_type']=df['seller_type'].map(mapping_sellerType)"
      ]
    },
    {
      "cell_type": "code",
      "execution_count": null,
      "metadata": {
        "colab": {
          "base_uri": "https://localhost:8080/"
        },
        "id": "AP8Zvmp4bhAx",
        "outputId": "5f1f2399-4189-4514-bd45-6cad852fbff7"
      },
      "outputs": [
        {
          "output_type": "execute_result",
          "data": {
            "text/plain": [
              "False    4340\n",
              "Name: seller_type, dtype: int64"
            ]
          },
          "metadata": {},
          "execution_count": 19
        }
      ],
      "source": [
        "df['seller_type'].isnull().value_counts()"
      ]
    },
    {
      "cell_type": "code",
      "execution_count": null,
      "metadata": {
        "colab": {
          "base_uri": "https://localhost:8080/",
          "height": 206
        },
        "id": "r8OOEsx3bmjZ",
        "outputId": "080a19fe-6214-4cb5-cb6a-cf149848a133"
      },
      "outputs": [
        {
          "output_type": "execute_result",
          "data": {
            "text/plain": [
              "                       name  year  selling_price  km_driven    fuel  \\\n",
              "0             Maruti 800 AC  2007          60000      70000  Petrol   \n",
              "1  Maruti Wagon R LXI Minor  2007         135000      50000  Petrol   \n",
              "2      Hyundai Verna 1.6 SX  2012         600000     100000  Diesel   \n",
              "3    Datsun RediGO T Option  2017         250000      46000  Petrol   \n",
              "4     Honda Amaze VX i-DTEC  2014         450000     141000  Diesel   \n",
              "\n",
              "   seller_type  transmission  owner  \n",
              "0            2             1      4  \n",
              "1            2             1      4  \n",
              "2            2             1      4  \n",
              "3            2             1      4  \n",
              "4            2             1      3  "
            ],
            "text/html": [
              "\n",
              "  <div id=\"df-092fbdbc-0e8d-4997-8697-0dca9407fff9\" class=\"colab-df-container\">\n",
              "    <div>\n",
              "<style scoped>\n",
              "    .dataframe tbody tr th:only-of-type {\n",
              "        vertical-align: middle;\n",
              "    }\n",
              "\n",
              "    .dataframe tbody tr th {\n",
              "        vertical-align: top;\n",
              "    }\n",
              "\n",
              "    .dataframe thead th {\n",
              "        text-align: right;\n",
              "    }\n",
              "</style>\n",
              "<table border=\"1\" class=\"dataframe\">\n",
              "  <thead>\n",
              "    <tr style=\"text-align: right;\">\n",
              "      <th></th>\n",
              "      <th>name</th>\n",
              "      <th>year</th>\n",
              "      <th>selling_price</th>\n",
              "      <th>km_driven</th>\n",
              "      <th>fuel</th>\n",
              "      <th>seller_type</th>\n",
              "      <th>transmission</th>\n",
              "      <th>owner</th>\n",
              "    </tr>\n",
              "  </thead>\n",
              "  <tbody>\n",
              "    <tr>\n",
              "      <th>0</th>\n",
              "      <td>Maruti 800 AC</td>\n",
              "      <td>2007</td>\n",
              "      <td>60000</td>\n",
              "      <td>70000</td>\n",
              "      <td>Petrol</td>\n",
              "      <td>2</td>\n",
              "      <td>1</td>\n",
              "      <td>4</td>\n",
              "    </tr>\n",
              "    <tr>\n",
              "      <th>1</th>\n",
              "      <td>Maruti Wagon R LXI Minor</td>\n",
              "      <td>2007</td>\n",
              "      <td>135000</td>\n",
              "      <td>50000</td>\n",
              "      <td>Petrol</td>\n",
              "      <td>2</td>\n",
              "      <td>1</td>\n",
              "      <td>4</td>\n",
              "    </tr>\n",
              "    <tr>\n",
              "      <th>2</th>\n",
              "      <td>Hyundai Verna 1.6 SX</td>\n",
              "      <td>2012</td>\n",
              "      <td>600000</td>\n",
              "      <td>100000</td>\n",
              "      <td>Diesel</td>\n",
              "      <td>2</td>\n",
              "      <td>1</td>\n",
              "      <td>4</td>\n",
              "    </tr>\n",
              "    <tr>\n",
              "      <th>3</th>\n",
              "      <td>Datsun RediGO T Option</td>\n",
              "      <td>2017</td>\n",
              "      <td>250000</td>\n",
              "      <td>46000</td>\n",
              "      <td>Petrol</td>\n",
              "      <td>2</td>\n",
              "      <td>1</td>\n",
              "      <td>4</td>\n",
              "    </tr>\n",
              "    <tr>\n",
              "      <th>4</th>\n",
              "      <td>Honda Amaze VX i-DTEC</td>\n",
              "      <td>2014</td>\n",
              "      <td>450000</td>\n",
              "      <td>141000</td>\n",
              "      <td>Diesel</td>\n",
              "      <td>2</td>\n",
              "      <td>1</td>\n",
              "      <td>3</td>\n",
              "    </tr>\n",
              "  </tbody>\n",
              "</table>\n",
              "</div>\n",
              "    <div class=\"colab-df-buttons\">\n",
              "\n",
              "  <div class=\"colab-df-container\">\n",
              "    <button class=\"colab-df-convert\" onclick=\"convertToInteractive('df-092fbdbc-0e8d-4997-8697-0dca9407fff9')\"\n",
              "            title=\"Convert this dataframe to an interactive table.\"\n",
              "            style=\"display:none;\">\n",
              "\n",
              "  <svg xmlns=\"http://www.w3.org/2000/svg\" height=\"24px\" viewBox=\"0 -960 960 960\">\n",
              "    <path d=\"M120-120v-720h720v720H120Zm60-500h600v-160H180v160Zm220 220h160v-160H400v160Zm0 220h160v-160H400v160ZM180-400h160v-160H180v160Zm440 0h160v-160H620v160ZM180-180h160v-160H180v160Zm440 0h160v-160H620v160Z\"/>\n",
              "  </svg>\n",
              "    </button>\n",
              "\n",
              "  <style>\n",
              "    .colab-df-container {\n",
              "      display:flex;\n",
              "      gap: 12px;\n",
              "    }\n",
              "\n",
              "    .colab-df-convert {\n",
              "      background-color: #E8F0FE;\n",
              "      border: none;\n",
              "      border-radius: 50%;\n",
              "      cursor: pointer;\n",
              "      display: none;\n",
              "      fill: #1967D2;\n",
              "      height: 32px;\n",
              "      padding: 0 0 0 0;\n",
              "      width: 32px;\n",
              "    }\n",
              "\n",
              "    .colab-df-convert:hover {\n",
              "      background-color: #E2EBFA;\n",
              "      box-shadow: 0px 1px 2px rgba(60, 64, 67, 0.3), 0px 1px 3px 1px rgba(60, 64, 67, 0.15);\n",
              "      fill: #174EA6;\n",
              "    }\n",
              "\n",
              "    .colab-df-buttons div {\n",
              "      margin-bottom: 4px;\n",
              "    }\n",
              "\n",
              "    [theme=dark] .colab-df-convert {\n",
              "      background-color: #3B4455;\n",
              "      fill: #D2E3FC;\n",
              "    }\n",
              "\n",
              "    [theme=dark] .colab-df-convert:hover {\n",
              "      background-color: #434B5C;\n",
              "      box-shadow: 0px 1px 3px 1px rgba(0, 0, 0, 0.15);\n",
              "      filter: drop-shadow(0px 1px 2px rgba(0, 0, 0, 0.3));\n",
              "      fill: #FFFFFF;\n",
              "    }\n",
              "  </style>\n",
              "\n",
              "    <script>\n",
              "      const buttonEl =\n",
              "        document.querySelector('#df-092fbdbc-0e8d-4997-8697-0dca9407fff9 button.colab-df-convert');\n",
              "      buttonEl.style.display =\n",
              "        google.colab.kernel.accessAllowed ? 'block' : 'none';\n",
              "\n",
              "      async function convertToInteractive(key) {\n",
              "        const element = document.querySelector('#df-092fbdbc-0e8d-4997-8697-0dca9407fff9');\n",
              "        const dataTable =\n",
              "          await google.colab.kernel.invokeFunction('convertToInteractive',\n",
              "                                                    [key], {});\n",
              "        if (!dataTable) return;\n",
              "\n",
              "        const docLinkHtml = 'Like what you see? Visit the ' +\n",
              "          '<a target=\"_blank\" href=https://colab.research.google.com/notebooks/data_table.ipynb>data table notebook</a>'\n",
              "          + ' to learn more about interactive tables.';\n",
              "        element.innerHTML = '';\n",
              "        dataTable['output_type'] = 'display_data';\n",
              "        await google.colab.output.renderOutput(dataTable, element);\n",
              "        const docLink = document.createElement('div');\n",
              "        docLink.innerHTML = docLinkHtml;\n",
              "        element.appendChild(docLink);\n",
              "      }\n",
              "    </script>\n",
              "  </div>\n",
              "\n",
              "\n",
              "<div id=\"df-14ad9b18-c278-4515-899b-19646327c403\">\n",
              "  <button class=\"colab-df-quickchart\" onclick=\"quickchart('df-14ad9b18-c278-4515-899b-19646327c403')\"\n",
              "            title=\"Suggest charts.\"\n",
              "            style=\"display:none;\">\n",
              "\n",
              "<svg xmlns=\"http://www.w3.org/2000/svg\" height=\"24px\"viewBox=\"0 0 24 24\"\n",
              "     width=\"24px\">\n",
              "    <g>\n",
              "        <path d=\"M19 3H5c-1.1 0-2 .9-2 2v14c0 1.1.9 2 2 2h14c1.1 0 2-.9 2-2V5c0-1.1-.9-2-2-2zM9 17H7v-7h2v7zm4 0h-2V7h2v10zm4 0h-2v-4h2v4z\"/>\n",
              "    </g>\n",
              "</svg>\n",
              "  </button>\n",
              "\n",
              "<style>\n",
              "  .colab-df-quickchart {\n",
              "      --bg-color: #E8F0FE;\n",
              "      --fill-color: #1967D2;\n",
              "      --hover-bg-color: #E2EBFA;\n",
              "      --hover-fill-color: #174EA6;\n",
              "      --disabled-fill-color: #AAA;\n",
              "      --disabled-bg-color: #DDD;\n",
              "  }\n",
              "\n",
              "  [theme=dark] .colab-df-quickchart {\n",
              "      --bg-color: #3B4455;\n",
              "      --fill-color: #D2E3FC;\n",
              "      --hover-bg-color: #434B5C;\n",
              "      --hover-fill-color: #FFFFFF;\n",
              "      --disabled-bg-color: #3B4455;\n",
              "      --disabled-fill-color: #666;\n",
              "  }\n",
              "\n",
              "  .colab-df-quickchart {\n",
              "    background-color: var(--bg-color);\n",
              "    border: none;\n",
              "    border-radius: 50%;\n",
              "    cursor: pointer;\n",
              "    display: none;\n",
              "    fill: var(--fill-color);\n",
              "    height: 32px;\n",
              "    padding: 0;\n",
              "    width: 32px;\n",
              "  }\n",
              "\n",
              "  .colab-df-quickchart:hover {\n",
              "    background-color: var(--hover-bg-color);\n",
              "    box-shadow: 0 1px 2px rgba(60, 64, 67, 0.3), 0 1px 3px 1px rgba(60, 64, 67, 0.15);\n",
              "    fill: var(--button-hover-fill-color);\n",
              "  }\n",
              "\n",
              "  .colab-df-quickchart-complete:disabled,\n",
              "  .colab-df-quickchart-complete:disabled:hover {\n",
              "    background-color: var(--disabled-bg-color);\n",
              "    fill: var(--disabled-fill-color);\n",
              "    box-shadow: none;\n",
              "  }\n",
              "\n",
              "  .colab-df-spinner {\n",
              "    border: 2px solid var(--fill-color);\n",
              "    border-color: transparent;\n",
              "    border-bottom-color: var(--fill-color);\n",
              "    animation:\n",
              "      spin 1s steps(1) infinite;\n",
              "  }\n",
              "\n",
              "  @keyframes spin {\n",
              "    0% {\n",
              "      border-color: transparent;\n",
              "      border-bottom-color: var(--fill-color);\n",
              "      border-left-color: var(--fill-color);\n",
              "    }\n",
              "    20% {\n",
              "      border-color: transparent;\n",
              "      border-left-color: var(--fill-color);\n",
              "      border-top-color: var(--fill-color);\n",
              "    }\n",
              "    30% {\n",
              "      border-color: transparent;\n",
              "      border-left-color: var(--fill-color);\n",
              "      border-top-color: var(--fill-color);\n",
              "      border-right-color: var(--fill-color);\n",
              "    }\n",
              "    40% {\n",
              "      border-color: transparent;\n",
              "      border-right-color: var(--fill-color);\n",
              "      border-top-color: var(--fill-color);\n",
              "    }\n",
              "    60% {\n",
              "      border-color: transparent;\n",
              "      border-right-color: var(--fill-color);\n",
              "    }\n",
              "    80% {\n",
              "      border-color: transparent;\n",
              "      border-right-color: var(--fill-color);\n",
              "      border-bottom-color: var(--fill-color);\n",
              "    }\n",
              "    90% {\n",
              "      border-color: transparent;\n",
              "      border-bottom-color: var(--fill-color);\n",
              "    }\n",
              "  }\n",
              "</style>\n",
              "\n",
              "  <script>\n",
              "    async function quickchart(key) {\n",
              "      const quickchartButtonEl =\n",
              "        document.querySelector('#' + key + ' button');\n",
              "      quickchartButtonEl.disabled = true;  // To prevent multiple clicks.\n",
              "      quickchartButtonEl.classList.add('colab-df-spinner');\n",
              "      try {\n",
              "        const charts = await google.colab.kernel.invokeFunction(\n",
              "            'suggestCharts', [key], {});\n",
              "      } catch (error) {\n",
              "        console.error('Error during call to suggestCharts:', error);\n",
              "      }\n",
              "      quickchartButtonEl.classList.remove('colab-df-spinner');\n",
              "      quickchartButtonEl.classList.add('colab-df-quickchart-complete');\n",
              "    }\n",
              "    (() => {\n",
              "      let quickchartButtonEl =\n",
              "        document.querySelector('#df-14ad9b18-c278-4515-899b-19646327c403 button');\n",
              "      quickchartButtonEl.style.display =\n",
              "        google.colab.kernel.accessAllowed ? 'block' : 'none';\n",
              "    })();\n",
              "  </script>\n",
              "</div>\n",
              "    </div>\n",
              "  </div>\n"
            ]
          },
          "metadata": {},
          "execution_count": 20
        }
      ],
      "source": [
        "df.head()"
      ]
    },
    {
      "cell_type": "code",
      "execution_count": null,
      "metadata": {
        "colab": {
          "base_uri": "https://localhost:8080/"
        },
        "id": "AMAWkuR6DlrC",
        "outputId": "0ed93c11-19bc-4cf2-8a3a-657644d3462d"
      },
      "outputs": [
        {
          "output_type": "execute_result",
          "data": {
            "text/plain": [
              "Diesel      2153\n",
              "Petrol      2123\n",
              "CNG           40\n",
              "LPG           23\n",
              "Electric       1\n",
              "Name: fuel, dtype: int64"
            ]
          },
          "metadata": {},
          "execution_count": 21
        }
      ],
      "source": [
        "df['fuel'].value_counts()"
      ]
    },
    {
      "cell_type": "code",
      "execution_count": null,
      "metadata": {
        "colab": {
          "base_uri": "https://localhost:8080/",
          "height": 445
        },
        "id": "efzsmW1HD147",
        "outputId": "d0418673-a800-43fd-a6de-264870028be9"
      },
      "outputs": [
        {
          "output_type": "display_data",
          "data": {
            "text/plain": [
              "<Figure size 640x480 with 1 Axes>"
            ],
            "image/png": "[encoded data removed]"
          },
          "metadata": {}
        }
      ],
      "source": [
        "x=df['fuel']\n",
        "y=df['selling_price']\n",
        "plt.bar(x,y)\n",
        "plt.show()"
      ]
    },
    {
      "cell_type": "code",
      "execution_count": null,
      "metadata": {
        "colab": {
          "base_uri": "https://localhost:8080/"
        },
        "id": "aX3OpdOYHRok",
        "outputId": "a0f7e018-c486-402b-9318-3654ff912269"
      },
      "outputs": [
        {
          "output_type": "stream",
          "name": "stdout",
          "text": [
            "8900000 8150000 595000 290000 310000\n"
          ]
        }
      ],
      "source": [
        "max_petrol=df[df['fuel']=='Petrol']['selling_price'].max()\n",
        "max_diesel=df[df['fuel']=='Diesel']['selling_price'].max()\n",
        "max_cng=df[df['fuel']=='CNG']['selling_price'].max()\n",
        "max_lpg=df[df['fuel']=='LPG']['selling_price'].max()\n",
        "max_electric=df[df['fuel']=='Electric']['selling_price'].max()\n",
        "print(max_petrol,max_diesel,max_cng,max_lpg,max_electric)"
      ]
    },
    {
      "cell_type": "markdown",
      "metadata": {
        "id": "CudF0R-YJLIb"
      },
      "source": [
        "With the help of graphical repesentation as well as maximum value's of the fuel. The highest weitage goes to Petrol, Diesel, CNG, Electric and LPG\n",
        "so we can use the ordinal Encoding.\n",
        "\n",
        "Petrol-5\n",
        "Diesel-4\n",
        "CNG-3\n",
        "Electric -2\n",
        "LPG-1"
      ]
    },
    {
      "cell_type": "code",
      "execution_count": null,
      "metadata": {
        "id": "s_jxOQI4JH3N"
      },
      "outputs": [],
      "source": [
        "mapping_fuel={\"Petrol\":5,\"Diesel\":4,\"CNG\":3,\"Electric\":2,\"LPG\":1}\n",
        "df['fuel']=df['fuel'].map(mapping_fuel)"
      ]
    },
    {
      "cell_type": "code",
      "execution_count": null,
      "metadata": {
        "colab": {
          "base_uri": "https://localhost:8080/"
        },
        "id": "eJvd6oDPTE7n",
        "outputId": "ff1ae25d-714b-4443-8f15-b34dc66eb3a2"
      },
      "outputs": [
        {
          "output_type": "execute_result",
          "data": {
            "text/plain": [
              "False    4340\n",
              "Name: fuel, dtype: int64"
            ]
          },
          "metadata": {},
          "execution_count": 25
        }
      ],
      "source": [
        "df['fuel'].isnull().value_counts()"
      ]
    },
    {
      "cell_type": "code",
      "execution_count": null,
      "metadata": {
        "colab": {
          "base_uri": "https://localhost:8080/",
          "height": 206
        },
        "id": "STqlhvj4TK4X",
        "outputId": "5fb573ec-c0e7-4112-fc85-9f6fd52e68f6"
      },
      "outputs": [
        {
          "output_type": "execute_result",
          "data": {
            "text/plain": [
              "                       name  year  selling_price  km_driven  fuel  \\\n",
              "0             Maruti 800 AC  2007          60000      70000     5   \n",
              "1  Maruti Wagon R LXI Minor  2007         135000      50000     5   \n",
              "2      Hyundai Verna 1.6 SX  2012         600000     100000     4   \n",
              "3    Datsun RediGO T Option  2017         250000      46000     5   \n",
              "4     Honda Amaze VX i-DTEC  2014         450000     141000     4   \n",
              "\n",
              "   seller_type  transmission  owner  \n",
              "0            2             1      4  \n",
              "1            2             1      4  \n",
              "2            2             1      4  \n",
              "3            2             1      4  \n",
              "4            2             1      3  "
            ],
            "text/html": [
              "\n",
              "  <div id=\"df-bd6f0737-49db-42c8-9ae4-b174b173dadb\" class=\"colab-df-container\">\n",
              "    <div>\n",
              "<style scoped>\n",
              "    .dataframe tbody tr th:only-of-type {\n",
              "        vertical-align: middle;\n",
              "    }\n",
              "\n",
              "    .dataframe tbody tr th {\n",
              "        vertical-align: top;\n",
              "    }\n",
              "\n",
              "    .dataframe thead th {\n",
              "        text-align: right;\n",
              "    }\n",
              "</style>\n",
              "<table border=\"1\" class=\"dataframe\">\n",
              "  <thead>\n",
              "    <tr style=\"text-align: right;\">\n",
              "      <th></th>\n",
              "      <th>name</th>\n",
              "      <th>year</th>\n",
              "      <th>selling_price</th>\n",
              "      <th>km_driven</th>\n",
              "      <th>fuel</th>\n",
              "      <th>seller_type</th>\n",
              "      <th>transmission</th>\n",
              "      <th>owner</th>\n",
              "    </tr>\n",
              "  </thead>\n",
              "  <tbody>\n",
              "    <tr>\n",
              "      <th>0</th>\n",
              "      <td>Maruti 800 AC</td>\n",
              "      <td>2007</td>\n",
              "      <td>60000</td>\n",
              "      <td>70000</td>\n",
              "      <td>5</td>\n",
              "      <td>2</td>\n",
              "      <td>1</td>\n",
              "      <td>4</td>\n",
              "    </tr>\n",
              "    <tr>\n",
              "      <th>1</th>\n",
              "      <td>Maruti Wagon R LXI Minor</td>\n",
              "      <td>2007</td>\n",
              "      <td>135000</td>\n",
              "      <td>50000</td>\n",
              "      <td>5</td>\n",
              "      <td>2</td>\n",
              "      <td>1</td>\n",
              "      <td>4</td>\n",
              "    </tr>\n",
              "    <tr>\n",
              "      <th>2</th>\n",
              "      <td>Hyundai Verna 1.6 SX</td>\n",
              "      <td>2012</td>\n",
              "      <td>600000</td>\n",
              "      <td>100000</td>\n",
              "      <td>4</td>\n",
              "      <td>2</td>\n",
              "      <td>1</td>\n",
              "      <td>4</td>\n",
              "    </tr>\n",
              "    <tr>\n",
              "      <th>3</th>\n",
              "      <td>Datsun RediGO T Option</td>\n",
              "      <td>2017</td>\n",
              "      <td>250000</td>\n",
              "      <td>46000</td>\n",
              "      <td>5</td>\n",
              "      <td>2</td>\n",
              "      <td>1</td>\n",
              "      <td>4</td>\n",
              "    </tr>\n",
              "    <tr>\n",
              "      <th>4</th>\n",
              "      <td>Honda Amaze VX i-DTEC</td>\n",
              "      <td>2014</td>\n",
              "      <td>450000</td>\n",
              "      <td>141000</td>\n",
              "      <td>4</td>\n",
              "      <td>2</td>\n",
              "      <td>1</td>\n",
              "      <td>3</td>\n",
              "    </tr>\n",
              "  </tbody>\n",
              "</table>\n",
              "</div>\n",
              "    <div class=\"colab-df-buttons\">\n",
              "\n",
              "  <div class=\"colab-df-container\">\n",
              "    <button class=\"colab-df-convert\" onclick=\"convertToInteractive('df-bd6f0737-49db-42c8-9ae4-b174b173dadb')\"\n",
              "            title=\"Convert this dataframe to an interactive table.\"\n",
              "            style=\"display:none;\">\n",
              "\n",
              "  <svg xmlns=\"http://www.w3.org/2000/svg\" height=\"24px\" viewBox=\"0 -960 960 960\">\n",
              "    <path d=\"M120-120v-720h720v720H120Zm60-500h600v-160H180v160Zm220 220h160v-160H400v160Zm0 220h160v-160H400v160ZM180-400h160v-160H180v160Zm440 0h160v-160H620v160ZM180-180h160v-160H180v160Zm440 0h160v-160H620v160Z\"/>\n",
              "  </svg>\n",
              "    </button>\n",
              "\n",
              "  <style>\n",
              "    .colab-df-container {\n",
              "      display:flex;\n",
              "      gap: 12px;\n",
              "    }\n",
              "\n",
              "    .colab-df-convert {\n",
              "      background-color: #E8F0FE;\n",
              "      border: none;\n",
              "      border-radius: 50%;\n",
              "      cursor: pointer;\n",
              "      display: none;\n",
              "      fill: #1967D2;\n",
              "      height: 32px;\n",
              "      padding: 0 0 0 0;\n",
              "      width: 32px;\n",
              "    }\n",
              "\n",
              "    .colab-df-convert:hover {\n",
              "      background-color: #E2EBFA;\n",
              "      box-shadow: 0px 1px 2px rgba(60, 64, 67, 0.3), 0px 1px 3px 1px rgba(60, 64, 67, 0.15);\n",
              "      fill: #174EA6;\n",
              "    }\n",
              "\n",
              "    .colab-df-buttons div {\n",
              "      margin-bottom: 4px;\n",
              "    }\n",
              "\n",
              "    [theme=dark] .colab-df-convert {\n",
              "      background-color: #3B4455;\n",
              "      fill: #D2E3FC;\n",
              "    }\n",
              "\n",
              "    [theme=dark] .colab-df-convert:hover {\n",
              "      background-color: #434B5C;\n",
              "      box-shadow: 0px 1px 3px 1px rgba(0, 0, 0, 0.15);\n",
              "      filter: drop-shadow(0px 1px 2px rgba(0, 0, 0, 0.3));\n",
              "      fill: #FFFFFF;\n",
              "    }\n",
              "  </style>\n",
              "\n",
              "    <script>\n",
              "      const buttonEl =\n",
              "        document.querySelector('#df-bd6f0737-49db-42c8-9ae4-b174b173dadb button.colab-df-convert');\n",
              "      buttonEl.style.display =\n",
              "        google.colab.kernel.accessAllowed ? 'block' : 'none';\n",
              "\n",
              "      async function convertToInteractive(key) {\n",
              "        const element = document.querySelector('#df-bd6f0737-49db-42c8-9ae4-b174b173dadb');\n",
              "        const dataTable =\n",
              "          await google.colab.kernel.invokeFunction('convertToInteractive',\n",
              "                                                    [key], {});\n",
              "        if (!dataTable) return;\n",
              "\n",
              "        const docLinkHtml = 'Like what you see? Visit the ' +\n",
              "          '<a target=\"_blank\" href=https://colab.research.google.com/notebooks/data_table.ipynb>data table notebook</a>'\n",
              "          + ' to learn more about interactive tables.';\n",
              "        element.innerHTML = '';\n",
              "        dataTable['output_type'] = 'display_data';\n",
              "        await google.colab.output.renderOutput(dataTable, element);\n",
              "        const docLink = document.createElement('div');\n",
              "        docLink.innerHTML = docLinkHtml;\n",
              "        element.appendChild(docLink);\n",
              "      }\n",
              "    </script>\n",
              "  </div>\n",
              "\n",
              "\n",
              "<div id=\"df-0db055e4-1477-4bd3-bfa4-342188e3d77d\">\n",
              "  <button class=\"colab-df-quickchart\" onclick=\"quickchart('df-0db055e4-1477-4bd3-bfa4-342188e3d77d')\"\n",
              "            title=\"Suggest charts.\"\n",
              "            style=\"display:none;\">\n",
              "\n",
              "<svg xmlns=\"http://www.w3.org/2000/svg\" height=\"24px\"viewBox=\"0 0 24 24\"\n",
              "     width=\"24px\">\n",
              "    <g>\n",
              "        <path d=\"M19 3H5c-1.1 0-2 .9-2 2v14c0 1.1.9 2 2 2h14c1.1 0 2-.9 2-2V5c0-1.1-.9-2-2-2zM9 17H7v-7h2v7zm4 0h-2V7h2v10zm4 0h-2v-4h2v4z\"/>\n",
              "    </g>\n",
              "</svg>\n",
              "  </button>\n",
              "\n",
              "<style>\n",
              "  .colab-df-quickchart {\n",
              "      --bg-color: #E8F0FE;\n",
              "      --fill-color: #1967D2;\n",
              "      --hover-bg-color: #E2EBFA;\n",
              "      --hover-fill-color: #174EA6;\n",
              "      --disabled-fill-color: #AAA;\n",
              "      --disabled-bg-color: #DDD;\n",
              "  }\n",
              "\n",
              "  [theme=dark] .colab-df-quickchart {\n",
              "      --bg-color: #3B4455;\n",
              "      --fill-color: #D2E3FC;\n",
              "      --hover-bg-color: #434B5C;\n",
              "      --hover-fill-color: #FFFFFF;\n",
              "      --disabled-bg-color: #3B4455;\n",
              "      --disabled-fill-color: #666;\n",
              "  }\n",
              "\n",
              "  .colab-df-quickchart {\n",
              "    background-color: var(--bg-color);\n",
              "    border: none;\n",
              "    border-radius: 50%;\n",
              "    cursor: pointer;\n",
              "    display: none;\n",
              "    fill: var(--fill-color);\n",
              "    height: 32px;\n",
              "    padding: 0;\n",
              "    width: 32px;\n",
              "  }\n",
              "\n",
              "  .colab-df-quickchart:hover {\n",
              "    background-color: var(--hover-bg-color);\n",
              "    box-shadow: 0 1px 2px rgba(60, 64, 67, 0.3), 0 1px 3px 1px rgba(60, 64, 67, 0.15);\n",
              "    fill: var(--button-hover-fill-color);\n",
              "  }\n",
              "\n",
              "  .colab-df-quickchart-complete:disabled,\n",
              "  .colab-df-quickchart-complete:disabled:hover {\n",
              "    background-color: var(--disabled-bg-color);\n",
              "    fill: var(--disabled-fill-color);\n",
              "    box-shadow: none;\n",
              "  }\n",
              "\n",
              "  .colab-df-spinner {\n",
              "    border: 2px solid var(--fill-color);\n",
              "    border-color: transparent;\n",
              "    border-bottom-color: var(--fill-color);\n",
              "    animation:\n",
              "      spin 1s steps(1) infinite;\n",
              "  }\n",
              "\n",
              "  @keyframes spin {\n",
              "    0% {\n",
              "      border-color: transparent;\n",
              "      border-bottom-color: var(--fill-color);\n",
              "      border-left-color: var(--fill-color);\n",
              "    }\n",
              "    20% {\n",
              "      border-color: transparent;\n",
              "      border-left-color: var(--fill-color);\n",
              "      border-top-color: var(--fill-color);\n",
              "    }\n",
              "    30% {\n",
              "      border-color: transparent;\n",
              "      border-left-color: var(--fill-color);\n",
              "      border-top-color: var(--fill-color);\n",
              "      border-right-color: var(--fill-color);\n",
              "    }\n",
              "    40% {\n",
              "      border-color: transparent;\n",
              "      border-right-color: var(--fill-color);\n",
              "      border-top-color: var(--fill-color);\n",
              "    }\n",
              "    60% {\n",
              "      border-color: transparent;\n",
              "      border-right-color: var(--fill-color);\n",
              "    }\n",
              "    80% {\n",
              "      border-color: transparent;\n",
              "      border-right-color: var(--fill-color);\n",
              "      border-bottom-color: var(--fill-color);\n",
              "    }\n",
              "    90% {\n",
              "      border-color: transparent;\n",
              "      border-bottom-color: var(--fill-color);\n",
              "    }\n",
              "  }\n",
              "</style>\n",
              "\n",
              "  <script>\n",
              "    async function quickchart(key) {\n",
              "      const quickchartButtonEl =\n",
              "        document.querySelector('#' + key + ' button');\n",
              "      quickchartButtonEl.disabled = true;  // To prevent multiple clicks.\n",
              "      quickchartButtonEl.classList.add('colab-df-spinner');\n",
              "      try {\n",
              "        const charts = await google.colab.kernel.invokeFunction(\n",
              "            'suggestCharts', [key], {});\n",
              "      } catch (error) {\n",
              "        console.error('Error during call to suggestCharts:', error);\n",
              "      }\n",
              "      quickchartButtonEl.classList.remove('colab-df-spinner');\n",
              "      quickchartButtonEl.classList.add('colab-df-quickchart-complete');\n",
              "    }\n",
              "    (() => {\n",
              "      let quickchartButtonEl =\n",
              "        document.querySelector('#df-0db055e4-1477-4bd3-bfa4-342188e3d77d button');\n",
              "      quickchartButtonEl.style.display =\n",
              "        google.colab.kernel.accessAllowed ? 'block' : 'none';\n",
              "    })();\n",
              "  </script>\n",
              "</div>\n",
              "    </div>\n",
              "  </div>\n"
            ]
          },
          "metadata": {},
          "execution_count": 26
        }
      ],
      "source": [
        "df.head()"
      ]
    },
    {
      "cell_type": "markdown",
      "metadata": {
        "id": "D2Ft1cHDTRvG"
      },
      "source": [
        "Now I am going to check the unique value for name"
      ]
    },
    {
      "cell_type": "code",
      "execution_count": null,
      "metadata": {
        "colab": {
          "base_uri": "https://localhost:8080/"
        },
        "id": "LZNHr3zw0B6f",
        "outputId": "f4b27604-ea1c-491a-bf9b-4244336466fc"
      },
      "outputs": [
        {
          "output_type": "execute_result",
          "data": {
            "text/plain": [
              "1491"
            ]
          },
          "metadata": {},
          "execution_count": 27
        }
      ],
      "source": [
        "df['name'].nunique()"
      ]
    },
    {
      "cell_type": "markdown",
      "metadata": {
        "id": "kBwxeUGT0GIZ"
      },
      "source": [
        "There 1491 unique car names it is really hard to use nominal encoding for this kind of stituation. So, I am going to Extract the first name of the cars instead of full name."
      ]
    },
    {
      "cell_type": "code",
      "execution_count": null,
      "metadata": {
        "colab": {
          "base_uri": "https://localhost:8080/",
          "height": 206
        },
        "id": "OF_7gdwY1JBI",
        "outputId": "ae82bb63-d70d-4825-f892-83cc17027643"
      },
      "outputs": [
        {
          "output_type": "execute_result",
          "data": {
            "text/plain": [
              "      name  year  selling_price  km_driven  fuel  seller_type  transmission  \\\n",
              "0   Maruti  2007          60000      70000     5            2             1   \n",
              "1   Maruti  2007         135000      50000     5            2             1   \n",
              "2  Hyundai  2012         600000     100000     4            2             1   \n",
              "3   Datsun  2017         250000      46000     5            2             1   \n",
              "4    Honda  2014         450000     141000     4            2             1   \n",
              "\n",
              "   owner  \n",
              "0      4  \n",
              "1      4  \n",
              "2      4  \n",
              "3      4  \n",
              "4      3  "
            ],
            "text/html": [
              "\n",
              "  <div id=\"df-96bcce7b-dc05-46fd-aca3-c937dae37119\" class=\"colab-df-container\">\n",
              "    <div>\n",
              "<style scoped>\n",
              "    .dataframe tbody tr th:only-of-type {\n",
              "        vertical-align: middle;\n",
              "    }\n",
              "\n",
              "    .dataframe tbody tr th {\n",
              "        vertical-align: top;\n",
              "    }\n",
              "\n",
              "    .dataframe thead th {\n",
              "        text-align: right;\n",
              "    }\n",
              "</style>\n",
              "<table border=\"1\" class=\"dataframe\">\n",
              "  <thead>\n",
              "    <tr style=\"text-align: right;\">\n",
              "      <th></th>\n",
              "      <th>name</th>\n",
              "      <th>year</th>\n",
              "      <th>selling_price</th>\n",
              "      <th>km_driven</th>\n",
              "      <th>fuel</th>\n",
              "      <th>seller_type</th>\n",
              "      <th>transmission</th>\n",
              "      <th>owner</th>\n",
              "    </tr>\n",
              "  </thead>\n",
              "  <tbody>\n",
              "    <tr>\n",
              "      <th>0</th>\n",
              "      <td>Maruti</td>\n",
              "      <td>2007</td>\n",
              "      <td>60000</td>\n",
              "      <td>70000</td>\n",
              "      <td>5</td>\n",
              "      <td>2</td>\n",
              "      <td>1</td>\n",
              "      <td>4</td>\n",
              "    </tr>\n",
              "    <tr>\n",
              "      <th>1</th>\n",
              "      <td>Maruti</td>\n",
              "      <td>2007</td>\n",
              "      <td>135000</td>\n",
              "      <td>50000</td>\n",
              "      <td>5</td>\n",
              "      <td>2</td>\n",
              "      <td>1</td>\n",
              "      <td>4</td>\n",
              "    </tr>\n",
              "    <tr>\n",
              "      <th>2</th>\n",
              "      <td>Hyundai</td>\n",
              "      <td>2012</td>\n",
              "      <td>600000</td>\n",
              "      <td>100000</td>\n",
              "      <td>4</td>\n",
              "      <td>2</td>\n",
              "      <td>1</td>\n",
              "      <td>4</td>\n",
              "    </tr>\n",
              "    <tr>\n",
              "      <th>3</th>\n",
              "      <td>Datsun</td>\n",
              "      <td>2017</td>\n",
              "      <td>250000</td>\n",
              "      <td>46000</td>\n",
              "      <td>5</td>\n",
              "      <td>2</td>\n",
              "      <td>1</td>\n",
              "      <td>4</td>\n",
              "    </tr>\n",
              "    <tr>\n",
              "      <th>4</th>\n",
              "      <td>Honda</td>\n",
              "      <td>2014</td>\n",
              "      <td>450000</td>\n",
              "      <td>141000</td>\n",
              "      <td>4</td>\n",
              "      <td>2</td>\n",
              "      <td>1</td>\n",
              "      <td>3</td>\n",
              "    </tr>\n",
              "  </tbody>\n",
              "</table>\n",
              "</div>\n",
              "    <div class=\"colab-df-buttons\">\n",
              "\n",
              "  <div class=\"colab-df-container\">\n",
              "    <button class=\"colab-df-convert\" onclick=\"convertToInteractive('df-96bcce7b-dc05-46fd-aca3-c937dae37119')\"\n",
              "            title=\"Convert this dataframe to an interactive table.\"\n",
              "            style=\"display:none;\">\n",
              "\n",
              "  <svg xmlns=\"http://www.w3.org/2000/svg\" height=\"24px\" viewBox=\"0 -960 960 960\">\n",
              "    <path d=\"M120-120v-720h720v720H120Zm60-500h600v-160H180v160Zm220 220h160v-160H400v160Zm0 220h160v-160H400v160ZM180-400h160v-160H180v160Zm440 0h160v-160H620v160ZM180-180h160v-160H180v160Zm440 0h160v-160H620v160Z\"/>\n",
              "  </svg>\n",
              "    </button>\n",
              "\n",
              "  <style>\n",
              "    .colab-df-container {\n",
              "      display:flex;\n",
              "      gap: 12px;\n",
              "    }\n",
              "\n",
              "    .colab-df-convert {\n",
              "      background-color: #E8F0FE;\n",
              "      border: none;\n",
              "      border-radius: 50%;\n",
              "      cursor: pointer;\n",
              "      display: none;\n",
              "      fill: #1967D2;\n",
              "      height: 32px;\n",
              "      padding: 0 0 0 0;\n",
              "      width: 32px;\n",
              "    }\n",
              "\n",
              "    .colab-df-convert:hover {\n",
              "      background-color: #E2EBFA;\n",
              "      box-shadow: 0px 1px 2px rgba(60, 64, 67, 0.3), 0px 1px 3px 1px rgba(60, 64, 67, 0.15);\n",
              "      fill: #174EA6;\n",
              "    }\n",
              "\n",
              "    .colab-df-buttons div {\n",
              "      margin-bottom: 4px;\n",
              "    }\n",
              "\n",
              "    [theme=dark] .colab-df-convert {\n",
              "      background-color: #3B4455;\n",
              "      fill: #D2E3FC;\n",
              "    }\n",
              "\n",
              "    [theme=dark] .colab-df-convert:hover {\n",
              "      background-color: #434B5C;\n",
              "      box-shadow: 0px 1px 3px 1px rgba(0, 0, 0, 0.15);\n",
              "      filter: drop-shadow(0px 1px 2px rgba(0, 0, 0, 0.3));\n",
              "      fill: #FFFFFF;\n",
              "    }\n",
              "  </style>\n",
              "\n",
              "    <script>\n",
              "      const buttonEl =\n",
              "        document.querySelector('#df-96bcce7b-dc05-46fd-aca3-c937dae37119 button.colab-df-convert');\n",
              "      buttonEl.style.display =\n",
              "        google.colab.kernel.accessAllowed ? 'block' : 'none';\n",
              "\n",
              "      async function convertToInteractive(key) {\n",
              "        const element = document.querySelector('#df-96bcce7b-dc05-46fd-aca3-c937dae37119');\n",
              "        const dataTable =\n",
              "          await google.colab.kernel.invokeFunction('convertToInteractive',\n",
              "                                                    [key], {});\n",
              "        if (!dataTable) return;\n",
              "\n",
              "        const docLinkHtml = 'Like what you see? Visit the ' +\n",
              "          '<a target=\"_blank\" href=https://colab.research.google.com/notebooks/data_table.ipynb>data table notebook</a>'\n",
              "          + ' to learn more about interactive tables.';\n",
              "        element.innerHTML = '';\n",
              "        dataTable['output_type'] = 'display_data';\n",
              "        await google.colab.output.renderOutput(dataTable, element);\n",
              "        const docLink = document.createElement('div');\n",
              "        docLink.innerHTML = docLinkHtml;\n",
              "        element.appendChild(docLink);\n",
              "      }\n",
              "    </script>\n",
              "  </div>\n",
              "\n",
              "\n",
              "<div id=\"df-b06ea7bf-3a09-4699-99a1-287127472065\">\n",
              "  <button class=\"colab-df-quickchart\" onclick=\"quickchart('df-b06ea7bf-3a09-4699-99a1-287127472065')\"\n",
              "            title=\"Suggest charts.\"\n",
              "            style=\"display:none;\">\n",
              "\n",
              "<svg xmlns=\"http://www.w3.org/2000/svg\" height=\"24px\"viewBox=\"0 0 24 24\"\n",
              "     width=\"24px\">\n",
              "    <g>\n",
              "        <path d=\"M19 3H5c-1.1 0-2 .9-2 2v14c0 1.1.9 2 2 2h14c1.1 0 2-.9 2-2V5c0-1.1-.9-2-2-2zM9 17H7v-7h2v7zm4 0h-2V7h2v10zm4 0h-2v-4h2v4z\"/>\n",
              "    </g>\n",
              "</svg>\n",
              "  </button>\n",
              "\n",
              "<style>\n",
              "  .colab-df-quickchart {\n",
              "      --bg-color: #E8F0FE;\n",
              "      --fill-color: #1967D2;\n",
              "      --hover-bg-color: #E2EBFA;\n",
              "      --hover-fill-color: #174EA6;\n",
              "      --disabled-fill-color: #AAA;\n",
              "      --disabled-bg-color: #DDD;\n",
              "  }\n",
              "\n",
              "  [theme=dark] .colab-df-quickchart {\n",
              "      --bg-color: #3B4455;\n",
              "      --fill-color: #D2E3FC;\n",
              "      --hover-bg-color: #434B5C;\n",
              "      --hover-fill-color: #FFFFFF;\n",
              "      --disabled-bg-color: #3B4455;\n",
              "      --disabled-fill-color: #666;\n",
              "  }\n",
              "\n",
              "  .colab-df-quickchart {\n",
              "    background-color: var(--bg-color);\n",
              "    border: none;\n",
              "    border-radius: 50%;\n",
              "    cursor: pointer;\n",
              "    display: none;\n",
              "    fill: var(--fill-color);\n",
              "    height: 32px;\n",
              "    padding: 0;\n",
              "    width: 32px;\n",
              "  }\n",
              "\n",
              "  .colab-df-quickchart:hover {\n",
              "    background-color: var(--hover-bg-color);\n",
              "    box-shadow: 0 1px 2px rgba(60, 64, 67, 0.3), 0 1px 3px 1px rgba(60, 64, 67, 0.15);\n",
              "    fill: var(--button-hover-fill-color);\n",
              "  }\n",
              "\n",
              "  .colab-df-quickchart-complete:disabled,\n",
              "  .colab-df-quickchart-complete:disabled:hover {\n",
              "    background-color: var(--disabled-bg-color);\n",
              "    fill: var(--disabled-fill-color);\n",
              "    box-shadow: none;\n",
              "  }\n",
              "\n",
              "  .colab-df-spinner {\n",
              "    border: 2px solid var(--fill-color);\n",
              "    border-color: transparent;\n",
              "    border-bottom-color: var(--fill-color);\n",
              "    animation:\n",
              "      spin 1s steps(1) infinite;\n",
              "  }\n",
              "\n",
              "  @keyframes spin {\n",
              "    0% {\n",
              "      border-color: transparent;\n",
              "      border-bottom-color: var(--fill-color);\n",
              "      border-left-color: var(--fill-color);\n",
              "    }\n",
              "    20% {\n",
              "      border-color: transparent;\n",
              "      border-left-color: var(--fill-color);\n",
              "      border-top-color: var(--fill-color);\n",
              "    }\n",
              "    30% {\n",
              "      border-color: transparent;\n",
              "      border-left-color: var(--fill-color);\n",
              "      border-top-color: var(--fill-color);\n",
              "      border-right-color: var(--fill-color);\n",
              "    }\n",
              "    40% {\n",
              "      border-color: transparent;\n",
              "      border-right-color: var(--fill-color);\n",
              "      border-top-color: var(--fill-color);\n",
              "    }\n",
              "    60% {\n",
              "      border-color: transparent;\n",
              "      border-right-color: var(--fill-color);\n",
              "    }\n",
              "    80% {\n",
              "      border-color: transparent;\n",
              "      border-right-color: var(--fill-color);\n",
              "      border-bottom-color: var(--fill-color);\n",
              "    }\n",
              "    90% {\n",
              "      border-color: transparent;\n",
              "      border-bottom-color: var(--fill-color);\n",
              "    }\n",
              "  }\n",
              "</style>\n",
              "\n",
              "  <script>\n",
              "    async function quickchart(key) {\n",
              "      const quickchartButtonEl =\n",
              "        document.querySelector('#' + key + ' button');\n",
              "      quickchartButtonEl.disabled = true;  // To prevent multiple clicks.\n",
              "      quickchartButtonEl.classList.add('colab-df-spinner');\n",
              "      try {\n",
              "        const charts = await google.colab.kernel.invokeFunction(\n",
              "            'suggestCharts', [key], {});\n",
              "      } catch (error) {\n",
              "        console.error('Error during call to suggestCharts:', error);\n",
              "      }\n",
              "      quickchartButtonEl.classList.remove('colab-df-spinner');\n",
              "      quickchartButtonEl.classList.add('colab-df-quickchart-complete');\n",
              "    }\n",
              "    (() => {\n",
              "      let quickchartButtonEl =\n",
              "        document.querySelector('#df-b06ea7bf-3a09-4699-99a1-287127472065 button');\n",
              "      quickchartButtonEl.style.display =\n",
              "        google.colab.kernel.accessAllowed ? 'block' : 'none';\n",
              "    })();\n",
              "  </script>\n",
              "</div>\n",
              "    </div>\n",
              "  </div>\n"
            ]
          },
          "metadata": {},
          "execution_count": 28
        }
      ],
      "source": [
        "df['name']=df['name'].str.split(\" \").str[0]\n",
        "df.head()"
      ]
    },
    {
      "cell_type": "markdown",
      "metadata": {
        "id": "8eKGfNvE1co7"
      },
      "source": [
        "Now we can check for the unique names for cars. So, I am going to use the same df.nunique method to find the unique values"
      ]
    },
    {
      "cell_type": "code",
      "source": [
        "df.head()"
      ],
      "metadata": {
        "colab": {
          "base_uri": "https://localhost:8080/",
          "height": 206
        },
        "id": "fZuj_fIjEOS2",
        "outputId": "4eec805d-d63b-4cf6-8a00-58f401202b43"
      },
      "execution_count": null,
      "outputs": [
        {
          "output_type": "execute_result",
          "data": {
            "text/plain": [
              "      name  year  selling_price  km_driven  fuel  seller_type  transmission  \\\n",
              "0   Maruti  2007          60000      70000     5            2             1   \n",
              "1   Maruti  2007         135000      50000     5            2             1   \n",
              "2  Hyundai  2012         600000     100000     4            2             1   \n",
              "3   Datsun  2017         250000      46000     5            2             1   \n",
              "4    Honda  2014         450000     141000     4            2             1   \n",
              "\n",
              "   owner  \n",
              "0      4  \n",
              "1      4  \n",
              "2      4  \n",
              "3      4  \n",
              "4      3  "
            ],
            "text/html": [
              "\n",
              "  <div id=\"df-067a698d-de92-4c57-bd7c-5d9ad56ec58e\" class=\"colab-df-container\">\n",
              "    <div>\n",
              "<style scoped>\n",
              "    .dataframe tbody tr th:only-of-type {\n",
              "        vertical-align: middle;\n",
              "    }\n",
              "\n",
              "    .dataframe tbody tr th {\n",
              "        vertical-align: top;\n",
              "    }\n",
              "\n",
              "    .dataframe thead th {\n",
              "        text-align: right;\n",
              "    }\n",
              "</style>\n",
              "<table border=\"1\" class=\"dataframe\">\n",
              "  <thead>\n",
              "    <tr style=\"text-align: right;\">\n",
              "      <th></th>\n",
              "      <th>name</th>\n",
              "      <th>year</th>\n",
              "      <th>selling_price</th>\n",
              "      <th>km_driven</th>\n",
              "      <th>fuel</th>\n",
              "      <th>seller_type</th>\n",
              "      <th>transmission</th>\n",
              "      <th>owner</th>\n",
              "    </tr>\n",
              "  </thead>\n",
              "  <tbody>\n",
              "    <tr>\n",
              "      <th>0</th>\n",
              "      <td>Maruti</td>\n",
              "      <td>2007</td>\n",
              "      <td>60000</td>\n",
              "      <td>70000</td>\n",
              "      <td>5</td>\n",
              "      <td>2</td>\n",
              "      <td>1</td>\n",
              "      <td>4</td>\n",
              "    </tr>\n",
              "    <tr>\n",
              "      <th>1</th>\n",
              "      <td>Maruti</td>\n",
              "      <td>2007</td>\n",
              "      <td>135000</td>\n",
              "      <td>50000</td>\n",
              "      <td>5</td>\n",
              "      <td>2</td>\n",
              "      <td>1</td>\n",
              "      <td>4</td>\n",
              "    </tr>\n",
              "    <tr>\n",
              "      <th>2</th>\n",
              "      <td>Hyundai</td>\n",
              "      <td>2012</td>\n",
              "      <td>600000</td>\n",
              "      <td>100000</td>\n",
              "      <td>4</td>\n",
              "      <td>2</td>\n",
              "      <td>1</td>\n",
              "      <td>4</td>\n",
              "    </tr>\n",
              "    <tr>\n",
              "      <th>3</th>\n",
              "      <td>Datsun</td>\n",
              "      <td>2017</td>\n",
              "      <td>250000</td>\n",
              "      <td>46000</td>\n",
              "      <td>5</td>\n",
              "      <td>2</td>\n",
              "      <td>1</td>\n",
              "      <td>4</td>\n",
              "    </tr>\n",
              "    <tr>\n",
              "      <th>4</th>\n",
              "      <td>Honda</td>\n",
              "      <td>2014</td>\n",
              "      <td>450000</td>\n",
              "      <td>141000</td>\n",
              "      <td>4</td>\n",
              "      <td>2</td>\n",
              "      <td>1</td>\n",
              "      <td>3</td>\n",
              "    </tr>\n",
              "  </tbody>\n",
              "</table>\n",
              "</div>\n",
              "    <div class=\"colab-df-buttons\">\n",
              "\n",
              "  <div class=\"colab-df-container\">\n",
              "    <button class=\"colab-df-convert\" onclick=\"convertToInteractive('df-067a698d-de92-4c57-bd7c-5d9ad56ec58e')\"\n",
              "            title=\"Convert this dataframe to an interactive table.\"\n",
              "            style=\"display:none;\">\n",
              "\n",
              "  <svg xmlns=\"http://www.w3.org/2000/svg\" height=\"24px\" viewBox=\"0 -960 960 960\">\n",
              "    <path d=\"M120-120v-720h720v720H120Zm60-500h600v-160H180v160Zm220 220h160v-160H400v160Zm0 220h160v-160H400v160ZM180-400h160v-160H180v160Zm440 0h160v-160H620v160ZM180-180h160v-160H180v160Zm440 0h160v-160H620v160Z\"/>\n",
              "  </svg>\n",
              "    </button>\n",
              "\n",
              "  <style>\n",
              "    .colab-df-container {\n",
              "      display:flex;\n",
              "      gap: 12px;\n",
              "    }\n",
              "\n",
              "    .colab-df-convert {\n",
              "      background-color: #E8F0FE;\n",
              "      border: none;\n",
              "      border-radius: 50%;\n",
              "      cursor: pointer;\n",
              "      display: none;\n",
              "      fill: #1967D2;\n",
              "      height: 32px;\n",
              "      padding: 0 0 0 0;\n",
              "      width: 32px;\n",
              "    }\n",
              "\n",
              "    .colab-df-convert:hover {\n",
              "      background-color: #E2EBFA;\n",
              "      box-shadow: 0px 1px 2px rgba(60, 64, 67, 0.3), 0px 1px 3px 1px rgba(60, 64, 67, 0.15);\n",
              "      fill: #174EA6;\n",
              "    }\n",
              "\n",
              "    .colab-df-buttons div {\n",
              "      margin-bottom: 4px;\n",
              "    }\n",
              "\n",
              "    [theme=dark] .colab-df-convert {\n",
              "      background-color: #3B4455;\n",
              "      fill: #D2E3FC;\n",
              "    }\n",
              "\n",
              "    [theme=dark] .colab-df-convert:hover {\n",
              "      background-color: #434B5C;\n",
              "      box-shadow: 0px 1px 3px 1px rgba(0, 0, 0, 0.15);\n",
              "      filter: drop-shadow(0px 1px 2px rgba(0, 0, 0, 0.3));\n",
              "      fill: #FFFFFF;\n",
              "    }\n",
              "  </style>\n",
              "\n",
              "    <script>\n",
              "      const buttonEl =\n",
              "        document.querySelector('#df-067a698d-de92-4c57-bd7c-5d9ad56ec58e button.colab-df-convert');\n",
              "      buttonEl.style.display =\n",
              "        google.colab.kernel.accessAllowed ? 'block' : 'none';\n",
              "\n",
              "      async function convertToInteractive(key) {\n",
              "        const element = document.querySelector('#df-067a698d-de92-4c57-bd7c-5d9ad56ec58e');\n",
              "        const dataTable =\n",
              "          await google.colab.kernel.invokeFunction('convertToInteractive',\n",
              "                                                    [key], {});\n",
              "        if (!dataTable) return;\n",
              "\n",
              "        const docLinkHtml = 'Like what you see? Visit the ' +\n",
              "          '<a target=\"_blank\" href=https://colab.research.google.com/notebooks/data_table.ipynb>data table notebook</a>'\n",
              "          + ' to learn more about interactive tables.';\n",
              "        element.innerHTML = '';\n",
              "        dataTable['output_type'] = 'display_data';\n",
              "        await google.colab.output.renderOutput(dataTable, element);\n",
              "        const docLink = document.createElement('div');\n",
              "        docLink.innerHTML = docLinkHtml;\n",
              "        element.appendChild(docLink);\n",
              "      }\n",
              "    </script>\n",
              "  </div>\n",
              "\n",
              "\n",
              "<div id=\"df-fb8f5c83-adab-407b-a058-c40c8a3ed53c\">\n",
              "  <button class=\"colab-df-quickchart\" onclick=\"quickchart('df-fb8f5c83-adab-407b-a058-c40c8a3ed53c')\"\n",
              "            title=\"Suggest charts.\"\n",
              "            style=\"display:none;\">\n",
              "\n",
              "<svg xmlns=\"http://www.w3.org/2000/svg\" height=\"24px\"viewBox=\"0 0 24 24\"\n",
              "     width=\"24px\">\n",
              "    <g>\n",
              "        <path d=\"M19 3H5c-1.1 0-2 .9-2 2v14c0 1.1.9 2 2 2h14c1.1 0 2-.9 2-2V5c0-1.1-.9-2-2-2zM9 17H7v-7h2v7zm4 0h-2V7h2v10zm4 0h-2v-4h2v4z\"/>\n",
              "    </g>\n",
              "</svg>\n",
              "  </button>\n",
              "\n",
              "<style>\n",
              "  .colab-df-quickchart {\n",
              "      --bg-color: #E8F0FE;\n",
              "      --fill-color: #1967D2;\n",
              "      --hover-bg-color: #E2EBFA;\n",
              "      --hover-fill-color: #174EA6;\n",
              "      --disabled-fill-color: #AAA;\n",
              "      --disabled-bg-color: #DDD;\n",
              "  }\n",
              "\n",
              "  [theme=dark] .colab-df-quickchart {\n",
              "      --bg-color: #3B4455;\n",
              "      --fill-color: #D2E3FC;\n",
              "      --hover-bg-color: #434B5C;\n",
              "      --hover-fill-color: #FFFFFF;\n",
              "      --disabled-bg-color: #3B4455;\n",
              "      --disabled-fill-color: #666;\n",
              "  }\n",
              "\n",
              "  .colab-df-quickchart {\n",
              "    background-color: var(--bg-color);\n",
              "    border: none;\n",
              "    border-radius: 50%;\n",
              "    cursor: pointer;\n",
              "    display: none;\n",
              "    fill: var(--fill-color);\n",
              "    height: 32px;\n",
              "    padding: 0;\n",
              "    width: 32px;\n",
              "  }\n",
              "\n",
              "  .colab-df-quickchart:hover {\n",
              "    background-color: var(--hover-bg-color);\n",
              "    box-shadow: 0 1px 2px rgba(60, 64, 67, 0.3), 0 1px 3px 1px rgba(60, 64, 67, 0.15);\n",
              "    fill: var(--button-hover-fill-color);\n",
              "  }\n",
              "\n",
              "  .colab-df-quickchart-complete:disabled,\n",
              "  .colab-df-quickchart-complete:disabled:hover {\n",
              "    background-color: var(--disabled-bg-color);\n",
              "    fill: var(--disabled-fill-color);\n",
              "    box-shadow: none;\n",
              "  }\n",
              "\n",
              "  .colab-df-spinner {\n",
              "    border: 2px solid var(--fill-color);\n",
              "    border-color: transparent;\n",
              "    border-bottom-color: var(--fill-color);\n",
              "    animation:\n",
              "      spin 1s steps(1) infinite;\n",
              "  }\n",
              "\n",
              "  @keyframes spin {\n",
              "    0% {\n",
              "      border-color: transparent;\n",
              "      border-bottom-color: var(--fill-color);\n",
              "      border-left-color: var(--fill-color);\n",
              "    }\n",
              "    20% {\n",
              "      border-color: transparent;\n",
              "      border-left-color: var(--fill-color);\n",
              "      border-top-color: var(--fill-color);\n",
              "    }\n",
              "    30% {\n",
              "      border-color: transparent;\n",
              "      border-left-color: var(--fill-color);\n",
              "      border-top-color: var(--fill-color);\n",
              "      border-right-color: var(--fill-color);\n",
              "    }\n",
              "    40% {\n",
              "      border-color: transparent;\n",
              "      border-right-color: var(--fill-color);\n",
              "      border-top-color: var(--fill-color);\n",
              "    }\n",
              "    60% {\n",
              "      border-color: transparent;\n",
              "      border-right-color: var(--fill-color);\n",
              "    }\n",
              "    80% {\n",
              "      border-color: transparent;\n",
              "      border-right-color: var(--fill-color);\n",
              "      border-bottom-color: var(--fill-color);\n",
              "    }\n",
              "    90% {\n",
              "      border-color: transparent;\n",
              "      border-bottom-color: var(--fill-color);\n",
              "    }\n",
              "  }\n",
              "</style>\n",
              "\n",
              "  <script>\n",
              "    async function quickchart(key) {\n",
              "      const quickchartButtonEl =\n",
              "        document.querySelector('#' + key + ' button');\n",
              "      quickchartButtonEl.disabled = true;  // To prevent multiple clicks.\n",
              "      quickchartButtonEl.classList.add('colab-df-spinner');\n",
              "      try {\n",
              "        const charts = await google.colab.kernel.invokeFunction(\n",
              "            'suggestCharts', [key], {});\n",
              "      } catch (error) {\n",
              "        console.error('Error during call to suggestCharts:', error);\n",
              "      }\n",
              "      quickchartButtonEl.classList.remove('colab-df-spinner');\n",
              "      quickchartButtonEl.classList.add('colab-df-quickchart-complete');\n",
              "    }\n",
              "    (() => {\n",
              "      let quickchartButtonEl =\n",
              "        document.querySelector('#df-fb8f5c83-adab-407b-a058-c40c8a3ed53c button');\n",
              "      quickchartButtonEl.style.display =\n",
              "        google.colab.kernel.accessAllowed ? 'block' : 'none';\n",
              "    })();\n",
              "  </script>\n",
              "</div>\n",
              "    </div>\n",
              "  </div>\n"
            ]
          },
          "metadata": {},
          "execution_count": 29
        }
      ]
    },
    {
      "cell_type": "code",
      "execution_count": null,
      "metadata": {
        "colab": {
          "base_uri": "https://localhost:8080/"
        },
        "id": "7662Z3tU1bRK",
        "outputId": "4590e8b0-75a6-41a8-dc3d-ee3372a39922"
      },
      "outputs": [
        {
          "output_type": "execute_result",
          "data": {
            "text/plain": [
              "29"
            ]
          },
          "metadata": {},
          "execution_count": 30
        }
      ],
      "source": [
        "df['name'].nunique()"
      ]
    },
    {
      "cell_type": "markdown",
      "metadata": {
        "id": "X_OAh6co1wLy"
      },
      "source": [
        "Now there is only 29 unique name of cars so Now I am going to use Nominal encoding."
      ]
    },
    {
      "cell_type": "code",
      "execution_count": null,
      "metadata": {
        "id": "0moImZ-0179B"
      },
      "outputs": [],
      "source": [
        "newdf=pd.get_dummies(df['name'],drop_first=True)"
      ]
    },
    {
      "cell_type": "markdown",
      "metadata": {
        "id": "3RNLLDoK2QCD"
      },
      "source": [
        "While using nominal encoding. we should use n-1 dummies.so I droped the Ambassador. After this I am going to concat both data frames to predict the price of the car."
      ]
    },
    {
      "cell_type": "code",
      "execution_count": null,
      "metadata": {
        "id": "beFetxyA2-8z"
      },
      "outputs": [],
      "source": [
        "prediction_df=pd.concat([df,newdf],axis=1)"
      ]
    },
    {
      "cell_type": "code",
      "execution_count": null,
      "metadata": {
        "colab": {
          "base_uri": "https://localhost:8080/",
          "height": 272
        },
        "id": "O3GfIlPD4K4Y",
        "outputId": "598ad449-57c8-495e-c784-38a7d76d0878"
      },
      "outputs": [
        {
          "output_type": "execute_result",
          "data": {
            "text/plain": [
              "      name  year  selling_price  km_driven  fuel  seller_type  transmission  \\\n",
              "0   Maruti  2007          60000      70000     5            2             1   \n",
              "1   Maruti  2007         135000      50000     5            2             1   \n",
              "2  Hyundai  2012         600000     100000     4            2             1   \n",
              "3   Datsun  2017         250000      46000     5            2             1   \n",
              "4    Honda  2014         450000     141000     4            2             1   \n",
              "\n",
              "   owner  Audi  BMW  ...  Mercedes-Benz  Mitsubishi  Nissan  OpelCorsa  \\\n",
              "0      4     0    0  ...              0           0       0          0   \n",
              "1      4     0    0  ...              0           0       0          0   \n",
              "2      4     0    0  ...              0           0       0          0   \n",
              "3      4     0    0  ...              0           0       0          0   \n",
              "4      3     0    0  ...              0           0       0          0   \n",
              "\n",
              "   Renault  Skoda  Tata  Toyota  Volkswagen  Volvo  \n",
              "0        0      0     0       0           0      0  \n",
              "1        0      0     0       0           0      0  \n",
              "2        0      0     0       0           0      0  \n",
              "3        0      0     0       0           0      0  \n",
              "4        0      0     0       0           0      0  \n",
              "\n",
              "[5 rows x 36 columns]"
            ],
            "text/html": [
              "\n",
              "  <div id=\"df-86bf2734-4295-439f-acf7-05b3d7c252d8\" class=\"colab-df-container\">\n",
              "    <div>\n",
              "<style scoped>\n",
              "    .dataframe tbody tr th:only-of-type {\n",
              "        vertical-align: middle;\n",
              "    }\n",
              "\n",
              "    .dataframe tbody tr th {\n",
              "        vertical-align: top;\n",
              "    }\n",
              "\n",
              "    .dataframe thead th {\n",
              "        text-align: right;\n",
              "    }\n",
              "</style>\n",
              "<table border=\"1\" class=\"dataframe\">\n",
              "  <thead>\n",
              "    <tr style=\"text-align: right;\">\n",
              "      <th></th>\n",
              "      <th>name</th>\n",
              "      <th>year</th>\n",
              "      <th>selling_price</th>\n",
              "      <th>km_driven</th>\n",
              "      <th>fuel</th>\n",
              "      <th>seller_type</th>\n",
              "      <th>transmission</th>\n",
              "      <th>owner</th>\n",
              "      <th>Audi</th>\n",
              "      <th>BMW</th>\n",
              "      <th>...</th>\n",
              "      <th>Mercedes-Benz</th>\n",
              "      <th>Mitsubishi</th>\n",
              "      <th>Nissan</th>\n",
              "      <th>OpelCorsa</th>\n",
              "      <th>Renault</th>\n",
              "      <th>Skoda</th>\n",
              "      <th>Tata</th>\n",
              "      <th>Toyota</th>\n",
              "      <th>Volkswagen</th>\n",
              "      <th>Volvo</th>\n",
              "    </tr>\n",
              "  </thead>\n",
              "  <tbody>\n",
              "    <tr>\n",
              "      <th>0</th>\n",
              "      <td>Maruti</td>\n",
              "      <td>2007</td>\n",
              "      <td>60000</td>\n",
              "      <td>70000</td>\n",
              "      <td>5</td>\n",
              "      <td>2</td>\n",
              "      <td>1</td>\n",
              "      <td>4</td>\n",
              "      <td>0</td>\n",
              "      <td>0</td>\n",
              "      <td>...</td>\n",
              "      <td>0</td>\n",
              "      <td>0</td>\n",
              "      <td>0</td>\n",
              "      <td>0</td>\n",
              "      <td>0</td>\n",
              "      <td>0</td>\n",
              "      <td>0</td>\n",
              "      <td>0</td>\n",
              "      <td>0</td>\n",
              "      <td>0</td>\n",
              "    </tr>\n",
              "    <tr>\n",
              "      <th>1</th>\n",
              "      <td>Maruti</td>\n",
              "      <td>2007</td>\n",
              "      <td>135000</td>\n",
              "      <td>50000</td>\n",
              "      <td>5</td>\n",
              "      <td>2</td>\n",
              "      <td>1</td>\n",
              "      <td>4</td>\n",
              "      <td>0</td>\n",
              "      <td>0</td>\n",
              "      <td>...</td>\n",
              "      <td>0</td>\n",
              "      <td>0</td>\n",
              "      <td>0</td>\n",
              "      <td>0</td>\n",
              "      <td>0</td>\n",
              "      <td>0</td>\n",
              "      <td>0</td>\n",
              "      <td>0</td>\n",
              "      <td>0</td>\n",
              "      <td>0</td>\n",
              "    </tr>\n",
              "    <tr>\n",
              "      <th>2</th>\n",
              "      <td>Hyundai</td>\n",
              "      <td>2012</td>\n",
              "      <td>600000</td>\n",
              "      <td>100000</td>\n",
              "      <td>4</td>\n",
              "      <td>2</td>\n",
              "      <td>1</td>\n",
              "      <td>4</td>\n",
              "      <td>0</td>\n",
              "      <td>0</td>\n",
              "      <td>...</td>\n",
              "      <td>0</td>\n",
              "      <td>0</td>\n",
              "      <td>0</td>\n",
              "      <td>0</td>\n",
              "      <td>0</td>\n",
              "      <td>0</td>\n",
              "      <td>0</td>\n",
              "      <td>0</td>\n",
              "      <td>0</td>\n",
              "      <td>0</td>\n",
              "    </tr>\n",
              "    <tr>\n",
              "      <th>3</th>\n",
              "      <td>Datsun</td>\n",
              "      <td>2017</td>\n",
              "      <td>250000</td>\n",
              "      <td>46000</td>\n",
              "      <td>5</td>\n",
              "      <td>2</td>\n",
              "      <td>1</td>\n",
              "      <td>4</td>\n",
              "      <td>0</td>\n",
              "      <td>0</td>\n",
              "      <td>...</td>\n",
              "      <td>0</td>\n",
              "      <td>0</td>\n",
              "      <td>0</td>\n",
              "      <td>0</td>\n",
              "      <td>0</td>\n",
              "      <td>0</td>\n",
              "      <td>0</td>\n",
              "      <td>0</td>\n",
              "      <td>0</td>\n",
              "      <td>0</td>\n",
              "    </tr>\n",
              "    <tr>\n",
              "      <th>4</th>\n",
              "      <td>Honda</td>\n",
              "      <td>2014</td>\n",
              "      <td>450000</td>\n",
              "      <td>141000</td>\n",
              "      <td>4</td>\n",
              "      <td>2</td>\n",
              "      <td>1</td>\n",
              "      <td>3</td>\n",
              "      <td>0</td>\n",
              "      <td>0</td>\n",
              "      <td>...</td>\n",
              "      <td>0</td>\n",
              "      <td>0</td>\n",
              "      <td>0</td>\n",
              "      <td>0</td>\n",
              "      <td>0</td>\n",
              "      <td>0</td>\n",
              "      <td>0</td>\n",
              "      <td>0</td>\n",
              "      <td>0</td>\n",
              "      <td>0</td>\n",
              "    </tr>\n",
              "  </tbody>\n",
              "</table>\n",
              "<p>5 rows × 36 columns</p>\n",
              "</div>\n",
              "    <div class=\"colab-df-buttons\">\n",
              "\n",
              "  <div class=\"colab-df-container\">\n",
              "    <button class=\"colab-df-convert\" onclick=\"convertToInteractive('df-86bf2734-4295-439f-acf7-05b3d7c252d8')\"\n",
              "            title=\"Convert this dataframe to an interactive table.\"\n",
              "            style=\"display:none;\">\n",
              "\n",
              "  <svg xmlns=\"http://www.w3.org/2000/svg\" height=\"24px\" viewBox=\"0 -960 960 960\">\n",
              "    <path d=\"M120-120v-720h720v720H120Zm60-500h600v-160H180v160Zm220 220h160v-160H400v160Zm0 220h160v-160H400v160ZM180-400h160v-160H180v160Zm440 0h160v-160H620v160ZM180-180h160v-160H180v160Zm440 0h160v-160H620v160Z\"/>\n",
              "  </svg>\n",
              "    </button>\n",
              "\n",
              "  <style>\n",
              "    .colab-df-container {\n",
              "      display:flex;\n",
              "      gap: 12px;\n",
              "    }\n",
              "\n",
              "    .colab-df-convert {\n",
              "      background-color: #E8F0FE;\n",
              "      border: none;\n",
              "      border-radius: 50%;\n",
              "      cursor: pointer;\n",
              "      display: none;\n",
              "      fill: #1967D2;\n",
              "      height: 32px;\n",
              "      padding: 0 0 0 0;\n",
              "      width: 32px;\n",
              "    }\n",
              "\n",
              "    .colab-df-convert:hover {\n",
              "      background-color: #E2EBFA;\n",
              "      box-shadow: 0px 1px 2px rgba(60, 64, 67, 0.3), 0px 1px 3px 1px rgba(60, 64, 67, 0.15);\n",
              "      fill: #174EA6;\n",
              "    }\n",
              "\n",
              "    .colab-df-buttons div {\n",
              "      margin-bottom: 4px;\n",
              "    }\n",
              "\n",
              "    [theme=dark] .colab-df-convert {\n",
              "      background-color: #3B4455;\n",
              "      fill: #D2E3FC;\n",
              "    }\n",
              "\n",
              "    [theme=dark] .colab-df-convert:hover {\n",
              "      background-color: #434B5C;\n",
              "      box-shadow: 0px 1px 3px 1px rgba(0, 0, 0, 0.15);\n",
              "      filter: drop-shadow(0px 1px 2px rgba(0, 0, 0, 0.3));\n",
              "      fill: #FFFFFF;\n",
              "    }\n",
              "  </style>\n",
              "\n",
              "    <script>\n",
              "      const buttonEl =\n",
              "        document.querySelector('#df-86bf2734-4295-439f-acf7-05b3d7c252d8 button.colab-df-convert');\n",
              "      buttonEl.style.display =\n",
              "        google.colab.kernel.accessAllowed ? 'block' : 'none';\n",
              "\n",
              "      async function convertToInteractive(key) {\n",
              "        const element = document.querySelector('#df-86bf2734-4295-439f-acf7-05b3d7c252d8');\n",
              "        const dataTable =\n",
              "          await google.colab.kernel.invokeFunction('convertToInteractive',\n",
              "                                                    [key], {});\n",
              "        if (!dataTable) return;\n",
              "\n",
              "        const docLinkHtml = 'Like what you see? Visit the ' +\n",
              "          '<a target=\"_blank\" href=https://colab.research.google.com/notebooks/data_table.ipynb>data table notebook</a>'\n",
              "          + ' to learn more about interactive tables.';\n",
              "        element.innerHTML = '';\n",
              "        dataTable['output_type'] = 'display_data';\n",
              "        await google.colab.output.renderOutput(dataTable, element);\n",
              "        const docLink = document.createElement('div');\n",
              "        docLink.innerHTML = docLinkHtml;\n",
              "        element.appendChild(docLink);\n",
              "      }\n",
              "    </script>\n",
              "  </div>\n",
              "\n",
              "\n",
              "<div id=\"df-803faee1-404b-4bae-9bbb-35881bc7f9a9\">\n",
              "  <button class=\"colab-df-quickchart\" onclick=\"quickchart('df-803faee1-404b-4bae-9bbb-35881bc7f9a9')\"\n",
              "            title=\"Suggest charts.\"\n",
              "            style=\"display:none;\">\n",
              "\n",
              "<svg xmlns=\"http://www.w3.org/2000/svg\" height=\"24px\"viewBox=\"0 0 24 24\"\n",
              "     width=\"24px\">\n",
              "    <g>\n",
              "        <path d=\"M19 3H5c-1.1 0-2 .9-2 2v14c0 1.1.9 2 2 2h14c1.1 0 2-.9 2-2V5c0-1.1-.9-2-2-2zM9 17H7v-7h2v7zm4 0h-2V7h2v10zm4 0h-2v-4h2v4z\"/>\n",
              "    </g>\n",
              "</svg>\n",
              "  </button>\n",
              "\n",
              "<style>\n",
              "  .colab-df-quickchart {\n",
              "      --bg-color: #E8F0FE;\n",
              "      --fill-color: #1967D2;\n",
              "      --hover-bg-color: #E2EBFA;\n",
              "      --hover-fill-color: #174EA6;\n",
              "      --disabled-fill-color: #AAA;\n",
              "      --disabled-bg-color: #DDD;\n",
              "  }\n",
              "\n",
              "  [theme=dark] .colab-df-quickchart {\n",
              "      --bg-color: #3B4455;\n",
              "      --fill-color: #D2E3FC;\n",
              "      --hover-bg-color: #434B5C;\n",
              "      --hover-fill-color: #FFFFFF;\n",
              "      --disabled-bg-color: #3B4455;\n",
              "      --disabled-fill-color: #666;\n",
              "  }\n",
              "\n",
              "  .colab-df-quickchart {\n",
              "    background-color: var(--bg-color);\n",
              "    border: none;\n",
              "    border-radius: 50%;\n",
              "    cursor: pointer;\n",
              "    display: none;\n",
              "    fill: var(--fill-color);\n",
              "    height: 32px;\n",
              "    padding: 0;\n",
              "    width: 32px;\n",
              "  }\n",
              "\n",
              "  .colab-df-quickchart:hover {\n",
              "    background-color: var(--hover-bg-color);\n",
              "    box-shadow: 0 1px 2px rgba(60, 64, 67, 0.3), 0 1px 3px 1px rgba(60, 64, 67, 0.15);\n",
              "    fill: var(--button-hover-fill-color);\n",
              "  }\n",
              "\n",
              "  .colab-df-quickchart-complete:disabled,\n",
              "  .colab-df-quickchart-complete:disabled:hover {\n",
              "    background-color: var(--disabled-bg-color);\n",
              "    fill: var(--disabled-fill-color);\n",
              "    box-shadow: none;\n",
              "  }\n",
              "\n",
              "  .colab-df-spinner {\n",
              "    border: 2px solid var(--fill-color);\n",
              "    border-color: transparent;\n",
              "    border-bottom-color: var(--fill-color);\n",
              "    animation:\n",
              "      spin 1s steps(1) infinite;\n",
              "  }\n",
              "\n",
              "  @keyframes spin {\n",
              "    0% {\n",
              "      border-color: transparent;\n",
              "      border-bottom-color: var(--fill-color);\n",
              "      border-left-color: var(--fill-color);\n",
              "    }\n",
              "    20% {\n",
              "      border-color: transparent;\n",
              "      border-left-color: var(--fill-color);\n",
              "      border-top-color: var(--fill-color);\n",
              "    }\n",
              "    30% {\n",
              "      border-color: transparent;\n",
              "      border-left-color: var(--fill-color);\n",
              "      border-top-color: var(--fill-color);\n",
              "      border-right-color: var(--fill-color);\n",
              "    }\n",
              "    40% {\n",
              "      border-color: transparent;\n",
              "      border-right-color: var(--fill-color);\n",
              "      border-top-color: var(--fill-color);\n",
              "    }\n",
              "    60% {\n",
              "      border-color: transparent;\n",
              "      border-right-color: var(--fill-color);\n",
              "    }\n",
              "    80% {\n",
              "      border-color: transparent;\n",
              "      border-right-color: var(--fill-color);\n",
              "      border-bottom-color: var(--fill-color);\n",
              "    }\n",
              "    90% {\n",
              "      border-color: transparent;\n",
              "      border-bottom-color: var(--fill-color);\n",
              "    }\n",
              "  }\n",
              "</style>\n",
              "\n",
              "  <script>\n",
              "    async function quickchart(key) {\n",
              "      const quickchartButtonEl =\n",
              "        document.querySelector('#' + key + ' button');\n",
              "      quickchartButtonEl.disabled = true;  // To prevent multiple clicks.\n",
              "      quickchartButtonEl.classList.add('colab-df-spinner');\n",
              "      try {\n",
              "        const charts = await google.colab.kernel.invokeFunction(\n",
              "            'suggestCharts', [key], {});\n",
              "      } catch (error) {\n",
              "        console.error('Error during call to suggestCharts:', error);\n",
              "      }\n",
              "      quickchartButtonEl.classList.remove('colab-df-spinner');\n",
              "      quickchartButtonEl.classList.add('colab-df-quickchart-complete');\n",
              "    }\n",
              "    (() => {\n",
              "      let quickchartButtonEl =\n",
              "        document.querySelector('#df-803faee1-404b-4bae-9bbb-35881bc7f9a9 button');\n",
              "      quickchartButtonEl.style.display =\n",
              "        google.colab.kernel.accessAllowed ? 'block' : 'none';\n",
              "    })();\n",
              "  </script>\n",
              "</div>\n",
              "    </div>\n",
              "  </div>\n"
            ]
          },
          "metadata": {},
          "execution_count": 33
        }
      ],
      "source": [
        "prediction_df.head()"
      ]
    },
    {
      "cell_type": "markdown",
      "metadata": {
        "id": "wqfkFIGd4O9n"
      },
      "source": [
        "Now I need to remove the name column because I have dummies so I can predict with dummies"
      ]
    },
    {
      "cell_type": "code",
      "execution_count": null,
      "metadata": {
        "id": "_JnHIIsh4haS"
      },
      "outputs": [],
      "source": [
        "prediction_df.drop(\"name\",axis=1,inplace=True)"
      ]
    },
    {
      "cell_type": "code",
      "execution_count": null,
      "metadata": {
        "colab": {
          "base_uri": "https://localhost:8080/",
          "height": 272
        },
        "id": "hubdVszr4wCg",
        "outputId": "6eef05f0-00cd-49c8-a91f-8ad2669d6a46"
      },
      "outputs": [
        {
          "output_type": "execute_result",
          "data": {
            "text/plain": [
              "   year  selling_price  km_driven  fuel  seller_type  transmission  owner  \\\n",
              "0  2007          60000      70000     5            2             1      4   \n",
              "1  2007         135000      50000     5            2             1      4   \n",
              "2  2012         600000     100000     4            2             1      4   \n",
              "3  2017         250000      46000     5            2             1      4   \n",
              "4  2014         450000     141000     4            2             1      3   \n",
              "\n",
              "   Audi  BMW  Chevrolet  ...  Mercedes-Benz  Mitsubishi  Nissan  OpelCorsa  \\\n",
              "0     0    0          0  ...              0           0       0          0   \n",
              "1     0    0          0  ...              0           0       0          0   \n",
              "2     0    0          0  ...              0           0       0          0   \n",
              "3     0    0          0  ...              0           0       0          0   \n",
              "4     0    0          0  ...              0           0       0          0   \n",
              "\n",
              "   Renault  Skoda  Tata  Toyota  Volkswagen  Volvo  \n",
              "0        0      0     0       0           0      0  \n",
              "1        0      0     0       0           0      0  \n",
              "2        0      0     0       0           0      0  \n",
              "3        0      0     0       0           0      0  \n",
              "4        0      0     0       0           0      0  \n",
              "\n",
              "[5 rows x 35 columns]"
            ],
            "text/html": [
              "\n",
              "  <div id=\"df-8efc9e1a-cf1d-47db-9103-3d4261d393e4\" class=\"colab-df-container\">\n",
              "    <div>\n",
              "<style scoped>\n",
              "    .dataframe tbody tr th:only-of-type {\n",
              "        vertical-align: middle;\n",
              "    }\n",
              "\n",
              "    .dataframe tbody tr th {\n",
              "        vertical-align: top;\n",
              "    }\n",
              "\n",
              "    .dataframe thead th {\n",
              "        text-align: right;\n",
              "    }\n",
              "</style>\n",
              "<table border=\"1\" class=\"dataframe\">\n",
              "  <thead>\n",
              "    <tr style=\"text-align: right;\">\n",
              "      <th></th>\n",
              "      <th>year</th>\n",
              "      <th>selling_price</th>\n",
              "      <th>km_driven</th>\n",
              "      <th>fuel</th>\n",
              "      <th>seller_type</th>\n",
              "      <th>transmission</th>\n",
              "      <th>owner</th>\n",
              "      <th>Audi</th>\n",
              "      <th>BMW</th>\n",
              "      <th>Chevrolet</th>\n",
              "      <th>...</th>\n",
              "      <th>Mercedes-Benz</th>\n",
              "      <th>Mitsubishi</th>\n",
              "      <th>Nissan</th>\n",
              "      <th>OpelCorsa</th>\n",
              "      <th>Renault</th>\n",
              "      <th>Skoda</th>\n",
              "      <th>Tata</th>\n",
              "      <th>Toyota</th>\n",
              "      <th>Volkswagen</th>\n",
              "      <th>Volvo</th>\n",
              "    </tr>\n",
              "  </thead>\n",
              "  <tbody>\n",
              "    <tr>\n",
              "      <th>0</th>\n",
              "      <td>2007</td>\n",
              "      <td>60000</td>\n",
              "      <td>70000</td>\n",
              "      <td>5</td>\n",
              "      <td>2</td>\n",
              "      <td>1</td>\n",
              "      <td>4</td>\n",
              "      <td>0</td>\n",
              "      <td>0</td>\n",
              "      <td>0</td>\n",
              "      <td>...</td>\n",
              "      <td>0</td>\n",
              "      <td>0</td>\n",
              "      <td>0</td>\n",
              "      <td>0</td>\n",
              "      <td>0</td>\n",
              "      <td>0</td>\n",
              "      <td>0</td>\n",
              "      <td>0</td>\n",
              "      <td>0</td>\n",
              "      <td>0</td>\n",
              "    </tr>\n",
              "    <tr>\n",
              "      <th>1</th>\n",
              "      <td>2007</td>\n",
              "      <td>135000</td>\n",
              "      <td>50000</td>\n",
              "      <td>5</td>\n",
              "      <td>2</td>\n",
              "      <td>1</td>\n",
              "      <td>4</td>\n",
              "      <td>0</td>\n",
              "      <td>0</td>\n",
              "      <td>0</td>\n",
              "      <td>...</td>\n",
              "      <td>0</td>\n",
              "      <td>0</td>\n",
              "      <td>0</td>\n",
              "      <td>0</td>\n",
              "      <td>0</td>\n",
              "      <td>0</td>\n",
              "      <td>0</td>\n",
              "      <td>0</td>\n",
              "      <td>0</td>\n",
              "      <td>0</td>\n",
              "    </tr>\n",
              "    <tr>\n",
              "      <th>2</th>\n",
              "      <td>2012</td>\n",
              "      <td>600000</td>\n",
              "      <td>100000</td>\n",
              "      <td>4</td>\n",
              "      <td>2</td>\n",
              "      <td>1</td>\n",
              "      <td>4</td>\n",
              "      <td>0</td>\n",
              "      <td>0</td>\n",
              "      <td>0</td>\n",
              "      <td>...</td>\n",
              "      <td>0</td>\n",
              "      <td>0</td>\n",
              "      <td>0</td>\n",
              "      <td>0</td>\n",
              "      <td>0</td>\n",
              "      <td>0</td>\n",
              "      <td>0</td>\n",
              "      <td>0</td>\n",
              "      <td>0</td>\n",
              "      <td>0</td>\n",
              "    </tr>\n",
              "    <tr>\n",
              "      <th>3</th>\n",
              "      <td>2017</td>\n",
              "      <td>250000</td>\n",
              "      <td>46000</td>\n",
              "      <td>5</td>\n",
              "      <td>2</td>\n",
              "      <td>1</td>\n",
              "      <td>4</td>\n",
              "      <td>0</td>\n",
              "      <td>0</td>\n",
              "      <td>0</td>\n",
              "      <td>...</td>\n",
              "      <td>0</td>\n",
              "      <td>0</td>\n",
              "      <td>0</td>\n",
              "      <td>0</td>\n",
              "      <td>0</td>\n",
              "      <td>0</td>\n",
              "      <td>0</td>\n",
              "      <td>0</td>\n",
              "      <td>0</td>\n",
              "      <td>0</td>\n",
              "    </tr>\n",
              "    <tr>\n",
              "      <th>4</th>\n",
              "      <td>2014</td>\n",
              "      <td>450000</td>\n",
              "      <td>141000</td>\n",
              "      <td>4</td>\n",
              "      <td>2</td>\n",
              "      <td>1</td>\n",
              "      <td>3</td>\n",
              "      <td>0</td>\n",
              "      <td>0</td>\n",
              "      <td>0</td>\n",
              "      <td>...</td>\n",
              "      <td>0</td>\n",
              "      <td>0</td>\n",
              "      <td>0</td>\n",
              "      <td>0</td>\n",
              "      <td>0</td>\n",
              "      <td>0</td>\n",
              "      <td>0</td>\n",
              "      <td>0</td>\n",
              "      <td>0</td>\n",
              "      <td>0</td>\n",
              "    </tr>\n",
              "  </tbody>\n",
              "</table>\n",
              "<p>5 rows × 35 columns</p>\n",
              "</div>\n",
              "    <div class=\"colab-df-buttons\">\n",
              "\n",
              "  <div class=\"colab-df-container\">\n",
              "    <button class=\"colab-df-convert\" onclick=\"convertToInteractive('df-8efc9e1a-cf1d-47db-9103-3d4261d393e4')\"\n",
              "            title=\"Convert this dataframe to an interactive table.\"\n",
              "            style=\"display:none;\">\n",
              "\n",
              "  <svg xmlns=\"http://www.w3.org/2000/svg\" height=\"24px\" viewBox=\"0 -960 960 960\">\n",
              "    <path d=\"M120-120v-720h720v720H120Zm60-500h600v-160H180v160Zm220 220h160v-160H400v160Zm0 220h160v-160H400v160ZM180-400h160v-160H180v160Zm440 0h160v-160H620v160ZM180-180h160v-160H180v160Zm440 0h160v-160H620v160Z\"/>\n",
              "  </svg>\n",
              "    </button>\n",
              "\n",
              "  <style>\n",
              "    .colab-df-container {\n",
              "      display:flex;\n",
              "      gap: 12px;\n",
              "    }\n",
              "\n",
              "    .colab-df-convert {\n",
              "      background-color: #E8F0FE;\n",
              "      border: none;\n",
              "      border-radius: 50%;\n",
              "      cursor: pointer;\n",
              "      display: none;\n",
              "      fill: #1967D2;\n",
              "      height: 32px;\n",
              "      padding: 0 0 0 0;\n",
              "      width: 32px;\n",
              "    }\n",
              "\n",
              "    .colab-df-convert:hover {\n",
              "      background-color: #E2EBFA;\n",
              "      box-shadow: 0px 1px 2px rgba(60, 64, 67, 0.3), 0px 1px 3px 1px rgba(60, 64, 67, 0.15);\n",
              "      fill: #174EA6;\n",
              "    }\n",
              "\n",
              "    .colab-df-buttons div {\n",
              "      margin-bottom: 4px;\n",
              "    }\n",
              "\n",
              "    [theme=dark] .colab-df-convert {\n",
              "      background-color: #3B4455;\n",
              "      fill: #D2E3FC;\n",
              "    }\n",
              "\n",
              "    [theme=dark] .colab-df-convert:hover {\n",
              "      background-color: #434B5C;\n",
              "      box-shadow: 0px 1px 3px 1px rgba(0, 0, 0, 0.15);\n",
              "      filter: drop-shadow(0px 1px 2px rgba(0, 0, 0, 0.3));\n",
              "      fill: #FFFFFF;\n",
              "    }\n",
              "  </style>\n",
              "\n",
              "    <script>\n",
              "      const buttonEl =\n",
              "        document.querySelector('#df-8efc9e1a-cf1d-47db-9103-3d4261d393e4 button.colab-df-convert');\n",
              "      buttonEl.style.display =\n",
              "        google.colab.kernel.accessAllowed ? 'block' : 'none';\n",
              "\n",
              "      async function convertToInteractive(key) {\n",
              "        const element = document.querySelector('#df-8efc9e1a-cf1d-47db-9103-3d4261d393e4');\n",
              "        const dataTable =\n",
              "          await google.colab.kernel.invokeFunction('convertToInteractive',\n",
              "                                                    [key], {});\n",
              "        if (!dataTable) return;\n",
              "\n",
              "        const docLinkHtml = 'Like what you see? Visit the ' +\n",
              "          '<a target=\"_blank\" href=https://colab.research.google.com/notebooks/data_table.ipynb>data table notebook</a>'\n",
              "          + ' to learn more about interactive tables.';\n",
              "        element.innerHTML = '';\n",
              "        dataTable['output_type'] = 'display_data';\n",
              "        await google.colab.output.renderOutput(dataTable, element);\n",
              "        const docLink = document.createElement('div');\n",
              "        docLink.innerHTML = docLinkHtml;\n",
              "        element.appendChild(docLink);\n",
              "      }\n",
              "    </script>\n",
              "  </div>\n",
              "\n",
              "\n",
              "<div id=\"df-97eccdb1-45bd-4198-9592-55f819ce1249\">\n",
              "  <button class=\"colab-df-quickchart\" onclick=\"quickchart('df-97eccdb1-45bd-4198-9592-55f819ce1249')\"\n",
              "            title=\"Suggest charts.\"\n",
              "            style=\"display:none;\">\n",
              "\n",
              "<svg xmlns=\"http://www.w3.org/2000/svg\" height=\"24px\"viewBox=\"0 0 24 24\"\n",
              "     width=\"24px\">\n",
              "    <g>\n",
              "        <path d=\"M19 3H5c-1.1 0-2 .9-2 2v14c0 1.1.9 2 2 2h14c1.1 0 2-.9 2-2V5c0-1.1-.9-2-2-2zM9 17H7v-7h2v7zm4 0h-2V7h2v10zm4 0h-2v-4h2v4z\"/>\n",
              "    </g>\n",
              "</svg>\n",
              "  </button>\n",
              "\n",
              "<style>\n",
              "  .colab-df-quickchart {\n",
              "      --bg-color: #E8F0FE;\n",
              "      --fill-color: #1967D2;\n",
              "      --hover-bg-color: #E2EBFA;\n",
              "      --hover-fill-color: #174EA6;\n",
              "      --disabled-fill-color: #AAA;\n",
              "      --disabled-bg-color: #DDD;\n",
              "  }\n",
              "\n",
              "  [theme=dark] .colab-df-quickchart {\n",
              "      --bg-color: #3B4455;\n",
              "      --fill-color: #D2E3FC;\n",
              "      --hover-bg-color: #434B5C;\n",
              "      --hover-fill-color: #FFFFFF;\n",
              "      --disabled-bg-color: #3B4455;\n",
              "      --disabled-fill-color: #666;\n",
              "  }\n",
              "\n",
              "  .colab-df-quickchart {\n",
              "    background-color: var(--bg-color);\n",
              "    border: none;\n",
              "    border-radius: 50%;\n",
              "    cursor: pointer;\n",
              "    display: none;\n",
              "    fill: var(--fill-color);\n",
              "    height: 32px;\n",
              "    padding: 0;\n",
              "    width: 32px;\n",
              "  }\n",
              "\n",
              "  .colab-df-quickchart:hover {\n",
              "    background-color: var(--hover-bg-color);\n",
              "    box-shadow: 0 1px 2px rgba(60, 64, 67, 0.3), 0 1px 3px 1px rgba(60, 64, 67, 0.15);\n",
              "    fill: var(--button-hover-fill-color);\n",
              "  }\n",
              "\n",
              "  .colab-df-quickchart-complete:disabled,\n",
              "  .colab-df-quickchart-complete:disabled:hover {\n",
              "    background-color: var(--disabled-bg-color);\n",
              "    fill: var(--disabled-fill-color);\n",
              "    box-shadow: none;\n",
              "  }\n",
              "\n",
              "  .colab-df-spinner {\n",
              "    border: 2px solid var(--fill-color);\n",
              "    border-color: transparent;\n",
              "    border-bottom-color: var(--fill-color);\n",
              "    animation:\n",
              "      spin 1s steps(1) infinite;\n",
              "  }\n",
              "\n",
              "  @keyframes spin {\n",
              "    0% {\n",
              "      border-color: transparent;\n",
              "      border-bottom-color: var(--fill-color);\n",
              "      border-left-color: var(--fill-color);\n",
              "    }\n",
              "    20% {\n",
              "      border-color: transparent;\n",
              "      border-left-color: var(--fill-color);\n",
              "      border-top-color: var(--fill-color);\n",
              "    }\n",
              "    30% {\n",
              "      border-color: transparent;\n",
              "      border-left-color: var(--fill-color);\n",
              "      border-top-color: var(--fill-color);\n",
              "      border-right-color: var(--fill-color);\n",
              "    }\n",
              "    40% {\n",
              "      border-color: transparent;\n",
              "      border-right-color: var(--fill-color);\n",
              "      border-top-color: var(--fill-color);\n",
              "    }\n",
              "    60% {\n",
              "      border-color: transparent;\n",
              "      border-right-color: var(--fill-color);\n",
              "    }\n",
              "    80% {\n",
              "      border-color: transparent;\n",
              "      border-right-color: var(--fill-color);\n",
              "      border-bottom-color: var(--fill-color);\n",
              "    }\n",
              "    90% {\n",
              "      border-color: transparent;\n",
              "      border-bottom-color: var(--fill-color);\n",
              "    }\n",
              "  }\n",
              "</style>\n",
              "\n",
              "  <script>\n",
              "    async function quickchart(key) {\n",
              "      const quickchartButtonEl =\n",
              "        document.querySelector('#' + key + ' button');\n",
              "      quickchartButtonEl.disabled = true;  // To prevent multiple clicks.\n",
              "      quickchartButtonEl.classList.add('colab-df-spinner');\n",
              "      try {\n",
              "        const charts = await google.colab.kernel.invokeFunction(\n",
              "            'suggestCharts', [key], {});\n",
              "      } catch (error) {\n",
              "        console.error('Error during call to suggestCharts:', error);\n",
              "      }\n",
              "      quickchartButtonEl.classList.remove('colab-df-spinner');\n",
              "      quickchartButtonEl.classList.add('colab-df-quickchart-complete');\n",
              "    }\n",
              "    (() => {\n",
              "      let quickchartButtonEl =\n",
              "        document.querySelector('#df-97eccdb1-45bd-4198-9592-55f819ce1249 button');\n",
              "      quickchartButtonEl.style.display =\n",
              "        google.colab.kernel.accessAllowed ? 'block' : 'none';\n",
              "    })();\n",
              "  </script>\n",
              "</div>\n",
              "    </div>\n",
              "  </div>\n"
            ]
          },
          "metadata": {},
          "execution_count": 35
        }
      ],
      "source": [
        "prediction_df.head()"
      ]
    },
    {
      "cell_type": "markdown",
      "metadata": {
        "id": "z1cXQC7C5Ifo"
      },
      "source": [
        "I am going to choose the model"
      ]
    },
    {
      "cell_type": "code",
      "source": [
        "import seaborn as sns"
      ],
      "metadata": {
        "id": "76Q78WDrzI1-"
      },
      "execution_count": null,
      "outputs": []
    },
    {
      "cell_type": "code",
      "source": [
        "plt.scatter(x=prediction_df['selling_price'],y=prediction_df['year'])\n",
        "plt.ylim(2000,2015)\n",
        "plt.xlim(200000,2000000)\n",
        "plt.show()"
      ],
      "metadata": {
        "colab": {
          "base_uri": "https://localhost:8080/",
          "height": 448
        },
        "id": "44Dv6x6DzU9T",
        "outputId": "55303c18-4462-4108-ba20-865d00f4f339"
      },
      "execution_count": null,
      "outputs": [
        {
          "output_type": "display_data",
          "data": {
            "text/plain": [
              "<Figure size 640x480 with 1 Axes>"
            ],
            "image/png": "[encoded data removed]"
          },
          "metadata": {}
        }
      ]
    },
    {
      "cell_type": "markdown",
      "source": [
        "With the help of the above scatter plot I am going to use the Linear Regression for predicting car price"
      ],
      "metadata": {
        "id": "vHOnpCvG1SKr"
      }
    },
    {
      "cell_type": "code",
      "source": [
        "from sklearn.linear_model import LinearRegression,Lasso,Ridge\n",
        "from sklearn.model_selection import train_test_split\n",
        "from sklearn.metrics import r2_score,mean_squared_error,mean_absolute_error"
      ],
      "metadata": {
        "id": "XA8KMHxZ1gQx"
      },
      "execution_count": null,
      "outputs": []
    },
    {
      "cell_type": "code",
      "source": [
        "X=prediction_df.drop(\"selling_price\",axis=1)\n",
        "y=prediction_df['selling_price']"
      ],
      "metadata": {
        "id": "OqR1qjO-16kM"
      },
      "execution_count": null,
      "outputs": []
    },
    {
      "cell_type": "code",
      "source": [
        "model=LinearRegression()\n",
        "X_train,X_test,y_train,y_test=train_test_split(X,y,test_size=0.2,random_state=0)\n",
        "model.fit(X_train,y_train)\n",
        "yhat=model.predict(X_test)\n",
        "print(yhat)"
      ],
      "metadata": {
        "colab": {
          "base_uri": "https://localhost:8080/"
        },
        "id": "VRxYJwj523CK",
        "outputId": "d007055f-7318-452f-9689-e670fc8b39b0"
      },
      "execution_count": null,
      "outputs": [
        {
          "output_type": "stream",
          "name": "stdout",
          "text": [
            "[ 6.77243227e+05  1.89743367e+06  2.83436019e+05  3.07839231e+06\n",
            "  1.57509546e+05  2.96662721e+05  7.81945723e+05  4.07934655e+05\n",
            "  9.43354249e+05  5.88512991e+05  4.45917155e+05  4.96023629e+05\n",
            "  8.82771803e+05  4.40447581e+05  1.30333386e+05  5.26768789e+05\n",
            "  6.51959776e+05  3.81509601e+05  2.37316447e+04  6.62651986e+05\n",
            " -3.33453317e+05  4.51918276e+05  3.98259832e+05  5.85480024e+05\n",
            "  5.43796314e+05  7.76452677e+05  5.75160637e+05  6.54552133e+05\n",
            "  6.47909850e+05  4.74446128e+05  5.30736102e+05  5.43020760e+05\n",
            "  8.93517510e+05  6.63070455e+05  3.20441826e+05  2.78021333e+05\n",
            "  3.51042447e+05  5.96310122e+04  1.50893151e+05  4.57985409e+05\n",
            "  1.38299015e+05  5.44805746e+05  2.55944567e+05  2.94427506e+06\n",
            "  5.08598565e+05  3.23160317e+05 -3.67431351e+04  4.01996823e+05\n",
            "  9.14323612e+05  2.92312282e+05  1.24705688e+05  5.31708488e+05\n",
            "  4.24947147e+05  7.88344056e+05  5.68687908e+05  5.80455336e+05\n",
            "  3.07839231e+06  3.01397978e+05  4.79439095e+05  3.36906548e+05\n",
            "  2.92357359e+05  7.53712819e+04  2.43767341e+05  5.14081544e+05\n",
            "  5.49770756e+05  6.09533430e+05  2.25774590e+05  2.42125773e+05\n",
            "  7.05986633e+05  8.39374757e+05  3.27755982e+04  3.36793160e+05\n",
            "  3.21385927e+05  4.92629338e+05  4.12565451e+05  5.68419972e+05\n",
            "  6.35287146e+05  5.94345289e+05  4.90334216e+05  4.16706313e+05\n",
            "  4.31860175e+05  1.75358486e+05  5.78296117e+05  2.62249270e+05\n",
            "  4.96464968e+04  2.88568818e+06  5.80182950e+05  4.56515972e+05\n",
            "  9.52104384e+05  1.87809188e+05  7.21264740e+05  1.13112379e+05\n",
            "  3.90429659e+05  3.82109322e+05  4.16035810e+05  6.21039782e+05\n",
            "  4.02927860e+05  7.20666244e+04  6.59933495e+05  7.61095303e+05\n",
            "  2.41879436e+05  3.70660913e+05 -1.11529714e+05  6.84789523e+05\n",
            " -8.97023103e+04  5.93823398e+05  1.91392414e+05  5.52605704e+05\n",
            "  2.31061092e+05  5.61310552e+04  2.02619700e+05  3.33056436e+05\n",
            "  9.04183713e+04  4.46122286e+05  9.60460701e+04  5.37744994e+05\n",
            "  4.29762059e+05  9.62201058e+05  5.75741507e+05  8.47702653e+04\n",
            "  6.25371858e+05  5.78025380e+05  8.73699968e+05  4.84801287e+05\n",
            "  2.43767341e+05  3.53305800e+05  2.35762348e+05  7.15452004e+05\n",
            "  5.84290008e+05  2.70672883e+05  5.08908698e+05  4.26588716e+05\n",
            "  6.61188135e+04  1.09196796e+06  2.88436734e+05  5.08908698e+05\n",
            "  5.21765757e+05  2.44873771e+02  2.00436368e+05  2.07119485e+05\n",
            "  1.35149729e+05  1.72095645e+04  8.06284198e+05  6.21389242e+05\n",
            "  4.81981510e+05  5.03509538e+05  9.55734216e+05  4.56533771e+05\n",
            " -3.67431351e+04  8.64600072e+05  3.58468936e+05  7.10753625e+05\n",
            "  9.64015068e+05  1.11494026e+06  3.38042050e+05  3.07839231e+06\n",
            "  5.34125639e+04  4.28009032e+05  6.32956219e+05  3.28348439e+05\n",
            "  2.64353991e+05  5.43613410e+05  3.18431434e+05  5.36052826e+05\n",
            "  3.90429659e+05  2.82492214e+05  5.03626431e+05  1.01993881e+05\n",
            "  5.91940380e+05  1.03610376e+06  7.36570898e+05  8.79369864e+05\n",
            "  5.14081544e+05  6.25272461e+05  8.22212903e+05  2.83676636e+05\n",
            "  3.52058226e+05 -3.04918280e+04  1.02125195e+05  2.82492214e+05\n",
            "  1.90353314e+05  3.63075332e+05  3.16090467e+05  7.07170056e+05\n",
            "  5.85146915e+05  1.41926695e+05  5.41315977e+05  2.02324273e+05\n",
            " -1.22796958e+04  2.22186275e+05  5.46088494e+05  3.36887869e+05\n",
            "  7.01717830e+05  9.81456095e+05  7.91277471e+05  7.04914501e+05\n",
            "  2.68066899e+05  6.23721906e+05  4.76406128e+05  6.96175821e+05\n",
            "  1.65913251e+06  5.29968315e+05  7.28179409e+05  9.34126829e+05\n",
            "  4.00552881e+05  2.25791844e+05 -2.45581888e+03  5.84934655e+05\n",
            "  8.39374757e+05  7.12672062e+05 -1.89070803e+05  5.79645351e+05\n",
            "  7.41705639e+05  2.72250941e+05  4.00647589e+05  2.67027799e+05\n",
            " -3.54259419e+05  6.69915465e+05  2.78206286e+05  4.29629003e+05\n",
            " -5.25848894e+04  3.33547216e+05  6.03482253e+05  1.08955577e+06\n",
            "  4.90803288e+05  1.37438864e+04  4.79537722e+05  3.26788756e+05\n",
            "  3.93331402e+05  5.86395970e+05  3.47023608e+05  8.74501478e+05\n",
            "  9.97766514e+05  4.21582552e+05  6.34164500e+05  8.62037000e+05\n",
            "  5.29468890e+05  5.15102846e+05  6.92125027e+04  6.90727355e+05\n",
            "  7.41281481e+05  1.18791609e+05  3.41912258e+05  4.49947053e+05\n",
            "  1.79898201e+05  4.13107502e+05  6.56707466e+05 -1.07911323e+04\n",
            "  6.62651986e+05  8.74509953e+05 -1.83967834e+04  6.07985737e+05\n",
            "  4.75569048e+05  4.14128803e+05  3.07839231e+06  4.96448786e+05\n",
            "  2.93440683e+05  2.84061573e+05  3.84865280e+05 -8.74175902e+03\n",
            "  3.88713885e+05  6.96122692e+04  3.97946897e+05  4.80482352e+05\n",
            "  5.75595425e+05  4.64901559e+05  3.74422303e+05  6.90408632e+05\n",
            "  5.82075307e+05  6.37795958e+05 -1.07108640e+05  2.59079575e+05\n",
            "  3.39926472e+05  2.55112570e+06  3.52841237e+05  6.88839450e+05\n",
            "  1.57218613e+05  4.40334066e+05  5.66968727e+05  1.14065345e+05\n",
            "  3.12049914e+06  5.67476701e+05  4.42082897e+05  9.53217325e+05\n",
            "  7.94673404e+05  2.63838154e+05  6.69361419e+05  3.27928322e+05\n",
            "  6.53260504e+04  4.28184287e+05  4.66211396e+05  1.94443260e+05\n",
            "  5.03592377e+05  3.79037145e+05  1.51806877e+06  4.83094952e+05\n",
            "  5.57242222e+05  3.13475870e+06  2.92817414e+05 -7.17094083e+04\n",
            "  3.83380189e+05  2.67612344e+04  1.97271267e+06 -9.93320201e+04\n",
            "  3.67829710e+05  1.15718363e+05  8.37649127e+05  8.39474606e+05\n",
            "  5.52383766e+05  2.53824183e+05  2.67596823e+05  1.59823589e+05\n",
            "  3.12049914e+06  2.23074754e+05  1.14133681e+05  7.22903403e+05\n",
            "  6.46714428e+05  8.34170394e+04  4.83370207e+05  2.02181682e+05\n",
            "  1.80470911e+05  3.18324805e+05  2.63485887e+05  6.32414596e+05\n",
            "  2.05119966e+05  7.88344056e+05  3.18800258e+05  6.30132372e+05\n",
            "  2.36688791e+05  6.49342903e+05  9.17747229e+05  1.42464597e+06\n",
            "  5.97422829e+05  6.20496282e+04  4.92316403e+05  6.01047598e+05\n",
            "  1.67557420e+05 -7.00300175e+04  2.84624555e+05  5.84290008e+05\n",
            "  5.47569350e+05  4.15859253e+05  4.12889426e+05  6.01472755e+05\n",
            "  3.60968064e+05  3.32061680e+05  6.55037720e+05  6.04712696e+05\n",
            "  6.96939302e+05  2.70066918e+05  4.05880493e+05  4.32234213e+05\n",
            "  6.57912277e+05  4.35010364e+05  6.94570271e+05  2.93346000e+05\n",
            "  5.11363053e+05  2.77679887e+05  1.27424179e+05  2.29343034e+05\n",
            "  2.51867194e+05  6.46452281e+05  3.24785682e+05  3.29363166e+05\n",
            "  2.16580452e+05  7.47576857e+05  9.04892324e+05  4.96879122e+05\n",
            " -2.44361118e+05 -6.83541580e+04  4.67138575e+05  5.38443365e+05\n",
            "  1.82817371e+06  8.22212903e+05  2.60911147e+05  5.62096412e+05\n",
            "  9.62849570e+05  5.78049780e+05  5.20883223e+05  1.42464597e+06\n",
            "  7.89813492e+05  5.29278533e+05  2.62685538e+05  4.32234213e+05\n",
            "  1.07393041e+05  2.42125773e+05  3.46460449e+05  5.39533718e+05\n",
            "  4.29307207e+05  5.74103341e+05  5.04548638e+05  4.44504195e+05\n",
            "  5.22181397e+05  1.22817782e+05  1.78213514e+05  1.65204951e+05\n",
            "  6.77257624e+05  5.17008551e+05  2.17341468e+06  5.96094120e+05\n",
            "  1.58257714e+05  5.55733423e+05  5.00311795e+05  5.00073555e+05\n",
            "  5.58959452e+05  5.26768789e+05  4.66211396e+05  7.85096415e+05\n",
            "  6.51626631e+05  5.36683913e+05  3.39203023e+05  3.16287846e+05\n",
            "  5.05496185e+05  2.54567887e+05 -3.19038238e+04  2.82492214e+05\n",
            "  6.24826540e+05  6.28783139e+05 -1.05556715e+04  4.81682134e+05\n",
            "  5.84290008e+05 -1.37717178e+05  5.65378551e+05  6.48870269e+05\n",
            "  8.14113050e+05  6.08140918e+05  5.07002994e+05 -1.16720359e+05\n",
            "  4.64508969e+05  5.19649823e+05  3.79275038e+05  8.01963271e+05\n",
            " -7.07841138e+04  5.40468406e+05  4.25935459e+05  1.06339512e+06\n",
            "  2.08866367e+06  6.49342903e+05  4.82545980e+05 -8.74175902e+03\n",
            "  5.96368228e+05  4.90384820e+05  3.77131696e+05  3.92756252e+05\n",
            "  4.68641352e+05  4.47394818e+05  1.78643967e+05  5.84290008e+05\n",
            "  2.54473178e+05  8.14113050e+05  3.68733924e+05  4.62161470e+05\n",
            "  5.98961238e+05  6.22923503e+05  4.00856104e+05  2.76976737e+05\n",
            "  8.50370100e+04  5.85188129e+04  6.27241750e+05  4.35215059e+05\n",
            " -1.77000573e+04  7.16890004e+05 -2.59139372e+05  1.84313863e+05\n",
            "  2.08866367e+06  4.45506912e+05  4.90714251e+05  4.81092788e+05\n",
            "  1.30333386e+05 -2.57340749e+04  1.34729970e+05  6.08762622e+05\n",
            "  2.70898906e+05  2.59967047e+05  4.70299069e+05  6.07374521e+04\n",
            "  3.18911871e+05 -5.66175687e+04  3.92399279e+05  1.95779633e+05\n",
            "  5.42885881e+05  5.94089372e+05  2.13219818e+05  3.03687366e+06\n",
            "  1.03338109e+06  9.03769404e+05  5.78296117e+05  4.58421676e+05\n",
            "  8.31777095e+05  6.04483581e+05 -1.81217288e+05  5.26077100e+05\n",
            "  5.43762464e+05  4.56180001e+05  5.64568566e+05  8.44350440e+05\n",
            "  1.65318466e+05  6.08140918e+05 -1.32741628e+04  6.79381774e+05\n",
            "  4.41847200e+05  2.47159384e+05  3.69742047e+05  5.54883724e+05\n",
            "  5.46019861e+05  1.35481833e+05  3.27210244e+05  2.00740718e+06\n",
            "  1.84762230e+05  3.28333164e+05  1.24705688e+05  1.14065345e+05\n",
            "  4.10990904e+05  4.49095731e+05  2.81596945e+06  3.99313499e+04\n",
            "  1.67757225e+05  4.33181879e+05  7.23090382e+05  2.16636073e+05\n",
            "  2.48940188e+05  3.21574725e+05  4.83804665e+05  5.73256478e+05\n",
            "  1.34939783e+05  3.60968064e+05  6.27241750e+05  7.76600597e+05\n",
            "  5.20323187e+05  5.92480461e+05  7.88334456e+05 -1.22528609e+04\n",
            "  4.47315163e+05  2.68355435e+05  3.03026021e+05  6.88245028e+05\n",
            "  7.89070733e+05  7.33807108e+05 -1.63658304e+05  3.58848152e+05\n",
            "  6.44170057e+05  1.17080447e+06  2.65291522e+05  6.46905468e+05\n",
            "  5.07731481e+05  4.90967170e+05  7.67003463e+05  2.74392361e+05\n",
            "  5.14931541e+05  3.95228406e+05  2.81794451e+05  1.64620702e+05\n",
            "  5.40269008e+05  5.58865118e+05  5.71545498e+05 -1.30278253e+04\n",
            "  4.83742536e+05  6.73747817e+05  2.55378308e+05  5.69777796e+05\n",
            "  2.96708718e+05  6.84609013e+05  5.17390565e+05  7.36994666e+05\n",
            "  6.14616646e+05  4.12971313e+05  6.53217274e+05  8.14319032e+05\n",
            "  9.79846857e+05  5.15701515e+05 -1.32089479e+05 -5.56613316e+04\n",
            "  1.16757463e+05  4.08501105e+05  4.61736313e+05  4.22794728e+05\n",
            "  7.39463964e+05  3.75754121e+05  3.35754060e+05  1.42809223e+05\n",
            "  8.18166992e+05  1.45511790e+05  4.15299218e+05  4.82721234e+05\n",
            "  8.34282601e+05  5.90321242e+05  4.11174596e+05  9.72730866e+05\n",
            "  4.15866175e+05  4.42142317e+05  5.83822786e+05  4.63174224e+05\n",
            "  6.91531552e+05  1.29749991e+06  1.06864414e+05  2.27567636e+05\n",
            "  8.97035120e+05  4.67138575e+05  3.79275038e+05  4.67138575e+05\n",
            "  8.88136148e+05  5.60280400e+05  7.97356874e+05  3.85079999e+05\n",
            "  3.19703815e+05  1.94093107e+05  4.33946864e+05  9.08760245e+05\n",
            "  2.84035193e+06  1.39117520e+06  1.95998811e+05  3.81747192e+05\n",
            "  2.68722465e+05  5.60817170e+05  5.73655952e+05 -2.70260046e+05\n",
            "  6.42996922e+05  7.05441959e+05  5.87745204e+05  3.53087574e+05\n",
            "  3.55673243e+05 -2.30591368e+05  6.35760071e+05  5.37943513e+05\n",
            "  4.05007649e+05  5.12223334e+05  8.40901178e+04 -2.18998060e+05\n",
            "  5.59395719e+05  4.32234213e+05  4.57243501e+05  1.22931297e+05\n",
            "  5.94089372e+05  6.81061148e+05  4.20910343e+05  4.74195122e+05\n",
            "  5.43316217e+05  1.53672630e+05  5.77758068e+05  3.86798434e+05\n",
            "  8.13349569e+05  4.72270979e+05  6.78588994e+05  3.49079846e+05\n",
            "  7.25618558e+05 -2.86432824e+04  5.50944530e+05  4.29412563e+05\n",
            "  3.69474135e+05  3.88112230e+05  2.90592067e+05  1.05899604e+05\n",
            "  5.87865407e+05  3.54026420e+05  3.35964029e+05  2.10540477e+05\n",
            "  7.06576572e+05 -2.40368855e+04  7.82978700e+05  5.67077322e+05\n",
            "  7.17188934e+05  9.85616735e+05  7.53141375e+05  1.92740312e+06\n",
            "  6.18689420e+05  7.21768942e+05  8.65289982e+05  8.44793378e+05\n",
            "  5.21084452e+05  8.39422884e+04  6.14865926e+05  8.01963271e+05\n",
            "  7.50156298e+05  1.42464597e+06  7.24007068e+05  2.22961239e+05\n",
            "  5.69385558e+05  6.58759684e+04  4.26700829e+05  8.59276795e+05\n",
            "  6.23155440e+05  2.02324273e+05  2.88313357e+06  5.58959452e+05\n",
            "  1.28539052e+05  4.80145656e+05  6.91419939e+05  1.52123334e+05\n",
            "  1.93280320e+05  1.06383216e+05  4.24983166e+05  4.50158973e+05\n",
            "  2.67858384e+05  1.40413497e+06  5.04907375e+05  1.64620702e+05\n",
            "  4.71381086e+05  4.37305441e+05  5.41401923e+05  6.22032520e+05\n",
            " -3.19110872e+03  4.68273186e+05  9.03769404e+05  2.36920929e+06\n",
            "  1.92416318e+06  1.75306224e+05  5.62096412e+05  2.31307429e+05\n",
            "  1.93280320e+05  6.49516780e+05  3.87393570e+05  4.97881839e+05\n",
            "  9.86821053e+04  2.60988348e+05  2.69011000e+05  3.76101694e+05\n",
            "  5.38542492e+05  2.64407187e+05  4.29817284e+05  1.85332096e+05\n",
            "  2.68066899e+05 -5.56613316e+04  4.22079602e+05  2.79839404e+05\n",
            "  2.08592553e+05  1.20691556e+05  3.82242994e+05  4.68571042e+05\n",
            "  7.19582990e+05  5.41967239e+05  6.82323184e+05 -1.55029824e+05\n",
            "  4.36679962e+05  8.79390192e+05  5.80540519e+05  5.26768789e+05\n",
            "  4.21773804e+05  2.82581400e+05  2.80517229e+06  5.24528156e+05\n",
            "  6.03392620e+05  7.33078141e+05  2.56025113e+05 -1.54155831e+04\n",
            "  6.27379243e+05  2.93920568e+06  5.62452908e+05  5.92873050e+05\n",
            "  5.97422829e+05  1.26742235e+05  3.48942939e+05  2.85187674e+06\n",
            "  4.82721234e+05  4.08789640e+05  1.12105998e+05  9.49042744e+05\n",
            "  1.75356590e+05  4.14128803e+05  3.36887869e+05  6.01622240e+05\n",
            "  6.47559587e+05  5.14081544e+05  8.09068141e+05  5.71613564e+05\n",
            "  3.23660170e+05  4.50146570e+05  3.47230760e+05  1.05712417e+06\n",
            "  5.23260619e+05  4.91973703e+05  6.32407908e+05  3.58047344e+05\n",
            "  3.20799777e+05 -3.67431351e+04  2.58070043e+05  1.43623884e+05\n",
            "  8.77894875e+05  5.88640371e+05  5.72449298e+05  8.69335329e+05\n",
            "  4.05880493e+05  2.65041785e+05  3.83260326e+05  5.89037117e+03\n",
            "  6.69405603e+05  4.13001366e+05  2.27451329e+05 -1.51360544e+05\n",
            "  5.09761308e+05  3.67435392e+05  1.88918339e+05  2.23538310e+05\n",
            "  1.19694961e+04 -7.23618863e+04  3.64378942e+04  5.65656587e+05\n",
            "  4.65482429e+05  4.15598240e+05  6.57130641e+05  9.72768306e+05\n",
            "  1.89743367e+06  3.72025974e+05  4.03328258e+05  9.07677151e+05\n",
            "  9.97311400e+05  3.84353175e+05  7.61240646e+05  3.13475870e+06\n",
            "  2.46513626e+05  4.32058959e+05  2.40423346e+05  7.88455669e+05\n",
            "  5.07072400e+05 -3.94616263e+04  1.20902099e+05  5.75595425e+05\n",
            "  2.99435916e+04  3.25766301e+05  2.91130060e+04  5.91210882e+05\n",
            "  5.81334737e+05  1.13112379e+05  2.70898906e+05  6.49342903e+05\n",
            "  4.67138575e+05  6.21222534e+05  4.02986614e+05  4.32234213e+05\n",
            "  1.91970826e+06  4.66418370e+05  6.42178992e+05  1.11224474e+05\n",
            "  4.80946844e+05  2.19536867e+05  1.49852917e+03  3.13475870e+06\n",
            "  1.45247654e+05  5.35908948e+05  5.08908698e+05  3.05675540e+05\n",
            "  3.99429960e+05  3.48942939e+05  7.66203845e+05 -1.98628225e+05\n",
            "  3.51509802e+05  4.80482352e+05  5.57040459e+05  5.04548638e+05\n",
            "  8.31777095e+05  7.71725881e+05 -8.74175902e+03  3.32753213e+05\n",
            "  8.66993644e+05  6.45744224e+05  2.40411094e+05 -2.56832640e+03\n",
            "  1.53672630e+05  7.13139007e+05  4.44777883e+05 -1.50804074e+05\n",
            "  6.08762622e+05  5.37528919e+05  2.91361207e+06  5.98028127e+04\n",
            "  2.11934380e+05  3.04227700e+05 -4.94493846e+04  3.13475870e+06]\n"
          ]
        }
      ]
    },
    {
      "cell_type": "code",
      "source": [
        "plt.scatter(y_test,yhat)\n",
        "plt.show()"
      ],
      "metadata": {
        "colab": {
          "base_uri": "https://localhost:8080/",
          "height": 463
        },
        "id": "2l3OpoP03wAC",
        "outputId": "6ad782de-3ede-4051-bc3e-5f0703feefcd"
      },
      "execution_count": null,
      "outputs": [
        {
          "output_type": "display_data",
          "data": {
            "text/plain": [
              "<Figure size 640x480 with 1 Axes>"
            ],
            "image/png": "[encoded data removed]"
          },
          "metadata": {}
        }
      ]
    },
    {
      "cell_type": "code",
      "source": [
        "sns.distplot(y_test-yhat)"
      ],
      "metadata": {
        "colab": {
          "base_uri": "https://localhost:8080/",
          "height": 682
        },
        "id": "BW3APmds42ma",
        "outputId": "6388d72a-7b23-4c57-d10f-ca2407f0075f"
      },
      "execution_count": null,
      "outputs": [
        {
          "output_type": "stream",
          "name": "stderr",
          "text": [
            "<ipython-input-42-8059dc7f8ca5>:1: UserWarning: \n",
            "\n",
            "`distplot` is a deprecated function and will be removed in seaborn v0.14.0.\n",
            "\n",
            "Please adapt your code to use either `displot` (a figure-level function with\n",
            "similar flexibility) or `histplot` (an axes-level function for histograms).\n",
            "\n",
            "For a guide to updating your code to use the new functions, please see\n",
            "https://gist.github.com/mwaskom/de44147ed2974457ad6372750bbe5751\n",
            "\n",
            "  sns.distplot(y_test-yhat)\n"
          ]
        },
        {
          "output_type": "execute_result",
          "data": {
            "text/plain": [
              "<Axes: xlabel='selling_price', ylabel='Density'>"
            ]
          },
          "metadata": {},
          "execution_count": 42
        },
        {
          "output_type": "display_data",
          "data": {
            "text/plain": [
              "<Figure size 640x480 with 1 Axes>"
            ],
            "image/png": "[encoded data removed]"
          },
          "metadata": {}
        }
      ]
    },
    {
      "cell_type": "markdown",
      "source": [
        "I need to check how the model is correctly specified with the evaluation metrics"
      ],
      "metadata": {
        "id": "tlSgsWXW8u6t"
      }
    },
    {
      "cell_type": "code",
      "source": [
        "model.coef_"
      ],
      "metadata": {
        "id": "GzaqVWX9WV4M",
        "outputId": "1c5db8c3-25e0-4ffb-e63b-98363070fd8b",
        "colab": {
          "base_uri": "https://localhost:8080/"
        }
      },
      "execution_count": null,
      "outputs": [
        {
          "output_type": "execute_result",
          "data": {
            "text/plain": [
              "array([ 4.23871688e+04, -8.09985262e-01, -9.80470367e+04, -2.55021324e+04,\n",
              "        3.02154469e+05,  2.08061022e+04,  1.10333497e+06,  1.98461142e+06,\n",
              "       -1.96539977e+05,  2.32830644e-10, -3.34045902e+05, -1.62292176e+05,\n",
              "       -2.53104861e+05,  2.88864294e+04,  5.61443107e+03, -8.73713726e+04,\n",
              "        7.33358467e+05,  1.32394859e+06,  7.85791259e+05,  1.64517271e+05,\n",
              "        2.74916972e+06,  8.54546323e+05,  3.12718123e+04, -1.09198777e+05,\n",
              "        2.06716527e+06,  4.39660848e+05, -7.23592252e+04,  1.45392606e+05,\n",
              "       -1.67960905e+05, -7.41099506e+04, -1.76620793e+05,  3.78536120e+05,\n",
              "       -9.19690691e+04,  1.86531944e+06])"
            ]
          },
          "metadata": {},
          "execution_count": 44
        }
      ]
    },
    {
      "cell_type": "code",
      "source": [
        "model.intercept_"
      ],
      "metadata": {
        "id": "HvFztbxUWZnD",
        "outputId": "d0e7aac8-248e-4be8-a4c3-3b433f77b59f",
        "colab": {
          "base_uri": "https://localhost:8080/"
        }
      },
      "execution_count": null,
      "outputs": [
        {
          "output_type": "execute_result",
          "data": {
            "text/plain": [
              "-84680452.1520688"
            ]
          },
          "metadata": {},
          "execution_count": 45
        }
      ]
    },
    {
      "cell_type": "code",
      "source": [
        "error=mean_squared_error(y_test,yhat)\n",
        "print(error)"
      ],
      "metadata": {
        "id": "nrIO8rmbW1P9",
        "outputId": "2b62f579-f1f7-4fbc-a8c6-7e52bc6a45af",
        "colab": {
          "base_uri": "https://localhost:8080/"
        }
      },
      "execution_count": null,
      "outputs": [
        {
          "output_type": "stream",
          "name": "stdout",
          "text": [
            "109665255226.35013\n"
          ]
        }
      ]
    },
    {
      "cell_type": "code",
      "source": [
        "import math"
      ],
      "metadata": {
        "id": "dNcwI_lKXMwc"
      },
      "execution_count": null,
      "outputs": []
    },
    {
      "cell_type": "code",
      "source": [
        "rmse=math.sqrt(error)\n",
        "print(rmse)"
      ],
      "metadata": {
        "id": "EG6Gwn93XKyl",
        "outputId": "321d1afb-f4b1-4bcb-b5dd-4ef3594b1c56",
        "colab": {
          "base_uri": "https://localhost:8080/"
        }
      },
      "execution_count": null,
      "outputs": [
        {
          "output_type": "stream",
          "name": "stdout",
          "text": [
            "331157.44778934104\n"
          ]
        }
      ]
    },
    {
      "cell_type": "code",
      "source": [
        "error_abs=mean_absolute_error(y_test,yhat)\n",
        "print(error_abs)"
      ],
      "metadata": {
        "id": "mVEVuqRcXeJ2",
        "outputId": "4c6b6672-1a88-4b04-fe85-330043415db7",
        "colab": {
          "base_uri": "https://localhost:8080/"
        }
      },
      "execution_count": null,
      "outputs": [
        {
          "output_type": "stream",
          "name": "stdout",
          "text": [
            "198599.56541512627\n"
          ]
        }
      ]
    },
    {
      "cell_type": "code",
      "source": [
        "eval_metrics=r2_score(y_test,yhat)\n",
        "print(eval_metrics)"
      ],
      "metadata": {
        "id": "2ikBZWulWzu-",
        "outputId": "c5366f70-1b2f-42b3-d6c8-6451c854945c",
        "colab": {
          "base_uri": "https://localhost:8080/"
        }
      },
      "execution_count": null,
      "outputs": [
        {
          "output_type": "stream",
          "name": "stdout",
          "text": [
            "0.7046858757442312\n"
          ]
        }
      ]
    },
    {
      "cell_type": "markdown",
      "source": [
        "r2_score is 0.704 that is My model predicts 70% accurate in predicting car price."
      ],
      "metadata": {
        "id": "OL5gQ6J79x9D"
      }
    },
    {
      "cell_type": "markdown",
      "source": [
        "With help of Lasso- L1 regularization I can do feature Engineering."
      ],
      "metadata": {
        "id": "lLuO_msGG75l"
      }
    },
    {
      "cell_type": "code",
      "source": [
        "ls=Lasso()\n",
        "ls.fit(X_train,y_train)\n",
        "yhat_ls=ls.predict(X_test)\n",
        "print(yhat)"
      ],
      "metadata": {
        "colab": {
          "base_uri": "https://localhost:8080/"
        },
        "id": "6s9gFsLWGWWT",
        "outputId": "b4b4dd13-e7fa-4283-fb7b-c6de3d0ccfc9"
      },
      "execution_count": null,
      "outputs": [
        {
          "output_type": "stream",
          "name": "stdout",
          "text": [
            "[ 6.77243227e+05  1.89743367e+06  2.83436019e+05  3.07839231e+06\n",
            "  1.57509546e+05  2.96662721e+05  7.81945723e+05  4.07934655e+05\n",
            "  9.43354249e+05  5.88512991e+05  4.45917155e+05  4.96023629e+05\n",
            "  8.82771803e+05  4.40447581e+05  1.30333386e+05  5.26768789e+05\n",
            "  6.51959776e+05  3.81509601e+05  2.37316447e+04  6.62651986e+05\n",
            " -3.33453317e+05  4.51918276e+05  3.98259832e+05  5.85480024e+05\n",
            "  5.43796314e+05  7.76452677e+05  5.75160637e+05  6.54552133e+05\n",
            "  6.47909850e+05  4.74446128e+05  5.30736102e+05  5.43020760e+05\n",
            "  8.93517510e+05  6.63070455e+05  3.20441826e+05  2.78021333e+05\n",
            "  3.51042447e+05  5.96310122e+04  1.50893151e+05  4.57985409e+05\n",
            "  1.38299015e+05  5.44805746e+05  2.55944567e+05  2.94427506e+06\n",
            "  5.08598565e+05  3.23160317e+05 -3.67431351e+04  4.01996823e+05\n",
            "  9.14323612e+05  2.92312282e+05  1.24705688e+05  5.31708488e+05\n",
            "  4.24947147e+05  7.88344056e+05  5.68687908e+05  5.80455336e+05\n",
            "  3.07839231e+06  3.01397978e+05  4.79439095e+05  3.36906548e+05\n",
            "  2.92357359e+05  7.53712819e+04  2.43767341e+05  5.14081544e+05\n",
            "  5.49770756e+05  6.09533430e+05  2.25774590e+05  2.42125773e+05\n",
            "  7.05986633e+05  8.39374757e+05  3.27755982e+04  3.36793160e+05\n",
            "  3.21385927e+05  4.92629338e+05  4.12565451e+05  5.68419972e+05\n",
            "  6.35287146e+05  5.94345289e+05  4.90334216e+05  4.16706313e+05\n",
            "  4.31860175e+05  1.75358486e+05  5.78296117e+05  2.62249270e+05\n",
            "  4.96464968e+04  2.88568818e+06  5.80182950e+05  4.56515972e+05\n",
            "  9.52104384e+05  1.87809188e+05  7.21264740e+05  1.13112379e+05\n",
            "  3.90429659e+05  3.82109322e+05  4.16035810e+05  6.21039782e+05\n",
            "  4.02927860e+05  7.20666244e+04  6.59933495e+05  7.61095303e+05\n",
            "  2.41879436e+05  3.70660913e+05 -1.11529714e+05  6.84789523e+05\n",
            " -8.97023103e+04  5.93823398e+05  1.91392414e+05  5.52605704e+05\n",
            "  2.31061092e+05  5.61310552e+04  2.02619700e+05  3.33056436e+05\n",
            "  9.04183713e+04  4.46122286e+05  9.60460701e+04  5.37744994e+05\n",
            "  4.29762059e+05  9.62201058e+05  5.75741507e+05  8.47702653e+04\n",
            "  6.25371858e+05  5.78025380e+05  8.73699968e+05  4.84801287e+05\n",
            "  2.43767341e+05  3.53305800e+05  2.35762348e+05  7.15452004e+05\n",
            "  5.84290008e+05  2.70672883e+05  5.08908698e+05  4.26588716e+05\n",
            "  6.61188135e+04  1.09196796e+06  2.88436734e+05  5.08908698e+05\n",
            "  5.21765757e+05  2.44873771e+02  2.00436368e+05  2.07119485e+05\n",
            "  1.35149729e+05  1.72095645e+04  8.06284198e+05  6.21389242e+05\n",
            "  4.81981510e+05  5.03509538e+05  9.55734216e+05  4.56533771e+05\n",
            " -3.67431351e+04  8.64600072e+05  3.58468936e+05  7.10753625e+05\n",
            "  9.64015068e+05  1.11494026e+06  3.38042050e+05  3.07839231e+06\n",
            "  5.34125639e+04  4.28009032e+05  6.32956219e+05  3.28348439e+05\n",
            "  2.64353991e+05  5.43613410e+05  3.18431434e+05  5.36052826e+05\n",
            "  3.90429659e+05  2.82492214e+05  5.03626431e+05  1.01993881e+05\n",
            "  5.91940380e+05  1.03610376e+06  7.36570898e+05  8.79369864e+05\n",
            "  5.14081544e+05  6.25272461e+05  8.22212903e+05  2.83676636e+05\n",
            "  3.52058226e+05 -3.04918280e+04  1.02125195e+05  2.82492214e+05\n",
            "  1.90353314e+05  3.63075332e+05  3.16090467e+05  7.07170056e+05\n",
            "  5.85146915e+05  1.41926695e+05  5.41315977e+05  2.02324273e+05\n",
            " -1.22796958e+04  2.22186275e+05  5.46088494e+05  3.36887869e+05\n",
            "  7.01717830e+05  9.81456095e+05  7.91277471e+05  7.04914501e+05\n",
            "  2.68066899e+05  6.23721906e+05  4.76406128e+05  6.96175821e+05\n",
            "  1.65913251e+06  5.29968315e+05  7.28179409e+05  9.34126829e+05\n",
            "  4.00552881e+05  2.25791844e+05 -2.45581888e+03  5.84934655e+05\n",
            "  8.39374757e+05  7.12672062e+05 -1.89070803e+05  5.79645351e+05\n",
            "  7.41705639e+05  2.72250941e+05  4.00647589e+05  2.67027799e+05\n",
            " -3.54259419e+05  6.69915465e+05  2.78206286e+05  4.29629003e+05\n",
            " -5.25848894e+04  3.33547216e+05  6.03482253e+05  1.08955577e+06\n",
            "  4.90803288e+05  1.37438864e+04  4.79537722e+05  3.26788756e+05\n",
            "  3.93331402e+05  5.86395970e+05  3.47023608e+05  8.74501478e+05\n",
            "  9.97766514e+05  4.21582552e+05  6.34164500e+05  8.62037000e+05\n",
            "  5.29468890e+05  5.15102846e+05  6.92125027e+04  6.90727355e+05\n",
            "  7.41281481e+05  1.18791609e+05  3.41912258e+05  4.49947053e+05\n",
            "  1.79898201e+05  4.13107502e+05  6.56707466e+05 -1.07911323e+04\n",
            "  6.62651986e+05  8.74509953e+05 -1.83967834e+04  6.07985737e+05\n",
            "  4.75569048e+05  4.14128803e+05  3.07839231e+06  4.96448786e+05\n",
            "  2.93440683e+05  2.84061573e+05  3.84865280e+05 -8.74175902e+03\n",
            "  3.88713885e+05  6.96122692e+04  3.97946897e+05  4.80482352e+05\n",
            "  5.75595425e+05  4.64901559e+05  3.74422303e+05  6.90408632e+05\n",
            "  5.82075307e+05  6.37795958e+05 -1.07108640e+05  2.59079575e+05\n",
            "  3.39926472e+05  2.55112570e+06  3.52841237e+05  6.88839450e+05\n",
            "  1.57218613e+05  4.40334066e+05  5.66968727e+05  1.14065345e+05\n",
            "  3.12049914e+06  5.67476701e+05  4.42082897e+05  9.53217325e+05\n",
            "  7.94673404e+05  2.63838154e+05  6.69361419e+05  3.27928322e+05\n",
            "  6.53260504e+04  4.28184287e+05  4.66211396e+05  1.94443260e+05\n",
            "  5.03592377e+05  3.79037145e+05  1.51806877e+06  4.83094952e+05\n",
            "  5.57242222e+05  3.13475870e+06  2.92817414e+05 -7.17094083e+04\n",
            "  3.83380189e+05  2.67612344e+04  1.97271267e+06 -9.93320201e+04\n",
            "  3.67829710e+05  1.15718363e+05  8.37649127e+05  8.39474606e+05\n",
            "  5.52383766e+05  2.53824183e+05  2.67596823e+05  1.59823589e+05\n",
            "  3.12049914e+06  2.23074754e+05  1.14133681e+05  7.22903403e+05\n",
            "  6.46714428e+05  8.34170394e+04  4.83370207e+05  2.02181682e+05\n",
            "  1.80470911e+05  3.18324805e+05  2.63485887e+05  6.32414596e+05\n",
            "  2.05119966e+05  7.88344056e+05  3.18800258e+05  6.30132372e+05\n",
            "  2.36688791e+05  6.49342903e+05  9.17747229e+05  1.42464597e+06\n",
            "  5.97422829e+05  6.20496282e+04  4.92316403e+05  6.01047598e+05\n",
            "  1.67557420e+05 -7.00300175e+04  2.84624555e+05  5.84290008e+05\n",
            "  5.47569350e+05  4.15859253e+05  4.12889426e+05  6.01472755e+05\n",
            "  3.60968064e+05  3.32061680e+05  6.55037720e+05  6.04712696e+05\n",
            "  6.96939302e+05  2.70066918e+05  4.05880493e+05  4.32234213e+05\n",
            "  6.57912277e+05  4.35010364e+05  6.94570271e+05  2.93346000e+05\n",
            "  5.11363053e+05  2.77679887e+05  1.27424179e+05  2.29343034e+05\n",
            "  2.51867194e+05  6.46452281e+05  3.24785682e+05  3.29363166e+05\n",
            "  2.16580452e+05  7.47576857e+05  9.04892324e+05  4.96879122e+05\n",
            " -2.44361118e+05 -6.83541580e+04  4.67138575e+05  5.38443365e+05\n",
            "  1.82817371e+06  8.22212903e+05  2.60911147e+05  5.62096412e+05\n",
            "  9.62849570e+05  5.78049780e+05  5.20883223e+05  1.42464597e+06\n",
            "  7.89813492e+05  5.29278533e+05  2.62685538e+05  4.32234213e+05\n",
            "  1.07393041e+05  2.42125773e+05  3.46460449e+05  5.39533718e+05\n",
            "  4.29307207e+05  5.74103341e+05  5.04548638e+05  4.44504195e+05\n",
            "  5.22181397e+05  1.22817782e+05  1.78213514e+05  1.65204951e+05\n",
            "  6.77257624e+05  5.17008551e+05  2.17341468e+06  5.96094120e+05\n",
            "  1.58257714e+05  5.55733423e+05  5.00311795e+05  5.00073555e+05\n",
            "  5.58959452e+05  5.26768789e+05  4.66211396e+05  7.85096415e+05\n",
            "  6.51626631e+05  5.36683913e+05  3.39203023e+05  3.16287846e+05\n",
            "  5.05496185e+05  2.54567887e+05 -3.19038238e+04  2.82492214e+05\n",
            "  6.24826540e+05  6.28783139e+05 -1.05556715e+04  4.81682134e+05\n",
            "  5.84290008e+05 -1.37717178e+05  5.65378551e+05  6.48870269e+05\n",
            "  8.14113050e+05  6.08140918e+05  5.07002994e+05 -1.16720359e+05\n",
            "  4.64508969e+05  5.19649823e+05  3.79275038e+05  8.01963271e+05\n",
            " -7.07841138e+04  5.40468406e+05  4.25935459e+05  1.06339512e+06\n",
            "  2.08866367e+06  6.49342903e+05  4.82545980e+05 -8.74175902e+03\n",
            "  5.96368228e+05  4.90384820e+05  3.77131696e+05  3.92756252e+05\n",
            "  4.68641352e+05  4.47394818e+05  1.78643967e+05  5.84290008e+05\n",
            "  2.54473178e+05  8.14113050e+05  3.68733924e+05  4.62161470e+05\n",
            "  5.98961238e+05  6.22923503e+05  4.00856104e+05  2.76976737e+05\n",
            "  8.50370100e+04  5.85188129e+04  6.27241750e+05  4.35215059e+05\n",
            " -1.77000573e+04  7.16890004e+05 -2.59139372e+05  1.84313863e+05\n",
            "  2.08866367e+06  4.45506912e+05  4.90714251e+05  4.81092788e+05\n",
            "  1.30333386e+05 -2.57340749e+04  1.34729970e+05  6.08762622e+05\n",
            "  2.70898906e+05  2.59967047e+05  4.70299069e+05  6.07374521e+04\n",
            "  3.18911871e+05 -5.66175687e+04  3.92399279e+05  1.95779633e+05\n",
            "  5.42885881e+05  5.94089372e+05  2.13219818e+05  3.03687366e+06\n",
            "  1.03338109e+06  9.03769404e+05  5.78296117e+05  4.58421676e+05\n",
            "  8.31777095e+05  6.04483581e+05 -1.81217288e+05  5.26077100e+05\n",
            "  5.43762464e+05  4.56180001e+05  5.64568566e+05  8.44350440e+05\n",
            "  1.65318466e+05  6.08140918e+05 -1.32741628e+04  6.79381774e+05\n",
            "  4.41847200e+05  2.47159384e+05  3.69742047e+05  5.54883724e+05\n",
            "  5.46019861e+05  1.35481833e+05  3.27210244e+05  2.00740718e+06\n",
            "  1.84762230e+05  3.28333164e+05  1.24705688e+05  1.14065345e+05\n",
            "  4.10990904e+05  4.49095731e+05  2.81596945e+06  3.99313499e+04\n",
            "  1.67757225e+05  4.33181879e+05  7.23090382e+05  2.16636073e+05\n",
            "  2.48940188e+05  3.21574725e+05  4.83804665e+05  5.73256478e+05\n",
            "  1.34939783e+05  3.60968064e+05  6.27241750e+05  7.76600597e+05\n",
            "  5.20323187e+05  5.92480461e+05  7.88334456e+05 -1.22528609e+04\n",
            "  4.47315163e+05  2.68355435e+05  3.03026021e+05  6.88245028e+05\n",
            "  7.89070733e+05  7.33807108e+05 -1.63658304e+05  3.58848152e+05\n",
            "  6.44170057e+05  1.17080447e+06  2.65291522e+05  6.46905468e+05\n",
            "  5.07731481e+05  4.90967170e+05  7.67003463e+05  2.74392361e+05\n",
            "  5.14931541e+05  3.95228406e+05  2.81794451e+05  1.64620702e+05\n",
            "  5.40269008e+05  5.58865118e+05  5.71545498e+05 -1.30278253e+04\n",
            "  4.83742536e+05  6.73747817e+05  2.55378308e+05  5.69777796e+05\n",
            "  2.96708718e+05  6.84609013e+05  5.17390565e+05  7.36994666e+05\n",
            "  6.14616646e+05  4.12971313e+05  6.53217274e+05  8.14319032e+05\n",
            "  9.79846857e+05  5.15701515e+05 -1.32089479e+05 -5.56613316e+04\n",
            "  1.16757463e+05  4.08501105e+05  4.61736313e+05  4.22794728e+05\n",
            "  7.39463964e+05  3.75754121e+05  3.35754060e+05  1.42809223e+05\n",
            "  8.18166992e+05  1.45511790e+05  4.15299218e+05  4.82721234e+05\n",
            "  8.34282601e+05  5.90321242e+05  4.11174596e+05  9.72730866e+05\n",
            "  4.15866175e+05  4.42142317e+05  5.83822786e+05  4.63174224e+05\n",
            "  6.91531552e+05  1.29749991e+06  1.06864414e+05  2.27567636e+05\n",
            "  8.97035120e+05  4.67138575e+05  3.79275038e+05  4.67138575e+05\n",
            "  8.88136148e+05  5.60280400e+05  7.97356874e+05  3.85079999e+05\n",
            "  3.19703815e+05  1.94093107e+05  4.33946864e+05  9.08760245e+05\n",
            "  2.84035193e+06  1.39117520e+06  1.95998811e+05  3.81747192e+05\n",
            "  2.68722465e+05  5.60817170e+05  5.73655952e+05 -2.70260046e+05\n",
            "  6.42996922e+05  7.05441959e+05  5.87745204e+05  3.53087574e+05\n",
            "  3.55673243e+05 -2.30591368e+05  6.35760071e+05  5.37943513e+05\n",
            "  4.05007649e+05  5.12223334e+05  8.40901178e+04 -2.18998060e+05\n",
            "  5.59395719e+05  4.32234213e+05  4.57243501e+05  1.22931297e+05\n",
            "  5.94089372e+05  6.81061148e+05  4.20910343e+05  4.74195122e+05\n",
            "  5.43316217e+05  1.53672630e+05  5.77758068e+05  3.86798434e+05\n",
            "  8.13349569e+05  4.72270979e+05  6.78588994e+05  3.49079846e+05\n",
            "  7.25618558e+05 -2.86432824e+04  5.50944530e+05  4.29412563e+05\n",
            "  3.69474135e+05  3.88112230e+05  2.90592067e+05  1.05899604e+05\n",
            "  5.87865407e+05  3.54026420e+05  3.35964029e+05  2.10540477e+05\n",
            "  7.06576572e+05 -2.40368855e+04  7.82978700e+05  5.67077322e+05\n",
            "  7.17188934e+05  9.85616735e+05  7.53141375e+05  1.92740312e+06\n",
            "  6.18689420e+05  7.21768942e+05  8.65289982e+05  8.44793378e+05\n",
            "  5.21084452e+05  8.39422884e+04  6.14865926e+05  8.01963271e+05\n",
            "  7.50156298e+05  1.42464597e+06  7.24007068e+05  2.22961239e+05\n",
            "  5.69385558e+05  6.58759684e+04  4.26700829e+05  8.59276795e+05\n",
            "  6.23155440e+05  2.02324273e+05  2.88313357e+06  5.58959452e+05\n",
            "  1.28539052e+05  4.80145656e+05  6.91419939e+05  1.52123334e+05\n",
            "  1.93280320e+05  1.06383216e+05  4.24983166e+05  4.50158973e+05\n",
            "  2.67858384e+05  1.40413497e+06  5.04907375e+05  1.64620702e+05\n",
            "  4.71381086e+05  4.37305441e+05  5.41401923e+05  6.22032520e+05\n",
            " -3.19110872e+03  4.68273186e+05  9.03769404e+05  2.36920929e+06\n",
            "  1.92416318e+06  1.75306224e+05  5.62096412e+05  2.31307429e+05\n",
            "  1.93280320e+05  6.49516780e+05  3.87393570e+05  4.97881839e+05\n",
            "  9.86821053e+04  2.60988348e+05  2.69011000e+05  3.76101694e+05\n",
            "  5.38542492e+05  2.64407187e+05  4.29817284e+05  1.85332096e+05\n",
            "  2.68066899e+05 -5.56613316e+04  4.22079602e+05  2.79839404e+05\n",
            "  2.08592553e+05  1.20691556e+05  3.82242994e+05  4.68571042e+05\n",
            "  7.19582990e+05  5.41967239e+05  6.82323184e+05 -1.55029824e+05\n",
            "  4.36679962e+05  8.79390192e+05  5.80540519e+05  5.26768789e+05\n",
            "  4.21773804e+05  2.82581400e+05  2.80517229e+06  5.24528156e+05\n",
            "  6.03392620e+05  7.33078141e+05  2.56025113e+05 -1.54155831e+04\n",
            "  6.27379243e+05  2.93920568e+06  5.62452908e+05  5.92873050e+05\n",
            "  5.97422829e+05  1.26742235e+05  3.48942939e+05  2.85187674e+06\n",
            "  4.82721234e+05  4.08789640e+05  1.12105998e+05  9.49042744e+05\n",
            "  1.75356590e+05  4.14128803e+05  3.36887869e+05  6.01622240e+05\n",
            "  6.47559587e+05  5.14081544e+05  8.09068141e+05  5.71613564e+05\n",
            "  3.23660170e+05  4.50146570e+05  3.47230760e+05  1.05712417e+06\n",
            "  5.23260619e+05  4.91973703e+05  6.32407908e+05  3.58047344e+05\n",
            "  3.20799777e+05 -3.67431351e+04  2.58070043e+05  1.43623884e+05\n",
            "  8.77894875e+05  5.88640371e+05  5.72449298e+05  8.69335329e+05\n",
            "  4.05880493e+05  2.65041785e+05  3.83260326e+05  5.89037117e+03\n",
            "  6.69405603e+05  4.13001366e+05  2.27451329e+05 -1.51360544e+05\n",
            "  5.09761308e+05  3.67435392e+05  1.88918339e+05  2.23538310e+05\n",
            "  1.19694961e+04 -7.23618863e+04  3.64378942e+04  5.65656587e+05\n",
            "  4.65482429e+05  4.15598240e+05  6.57130641e+05  9.72768306e+05\n",
            "  1.89743367e+06  3.72025974e+05  4.03328258e+05  9.07677151e+05\n",
            "  9.97311400e+05  3.84353175e+05  7.61240646e+05  3.13475870e+06\n",
            "  2.46513626e+05  4.32058959e+05  2.40423346e+05  7.88455669e+05\n",
            "  5.07072400e+05 -3.94616263e+04  1.20902099e+05  5.75595425e+05\n",
            "  2.99435916e+04  3.25766301e+05  2.91130060e+04  5.91210882e+05\n",
            "  5.81334737e+05  1.13112379e+05  2.70898906e+05  6.49342903e+05\n",
            "  4.67138575e+05  6.21222534e+05  4.02986614e+05  4.32234213e+05\n",
            "  1.91970826e+06  4.66418370e+05  6.42178992e+05  1.11224474e+05\n",
            "  4.80946844e+05  2.19536867e+05  1.49852917e+03  3.13475870e+06\n",
            "  1.45247654e+05  5.35908948e+05  5.08908698e+05  3.05675540e+05\n",
            "  3.99429960e+05  3.48942939e+05  7.66203845e+05 -1.98628225e+05\n",
            "  3.51509802e+05  4.80482352e+05  5.57040459e+05  5.04548638e+05\n",
            "  8.31777095e+05  7.71725881e+05 -8.74175902e+03  3.32753213e+05\n",
            "  8.66993644e+05  6.45744224e+05  2.40411094e+05 -2.56832640e+03\n",
            "  1.53672630e+05  7.13139007e+05  4.44777883e+05 -1.50804074e+05\n",
            "  6.08762622e+05  5.37528919e+05  2.91361207e+06  5.98028127e+04\n",
            "  2.11934380e+05  3.04227700e+05 -4.94493846e+04  3.13475870e+06]\n"
          ]
        },
        {
          "output_type": "stream",
          "name": "stderr",
          "text": [
            "/usr/local/lib/python3.10/dist-packages/sklearn/linear_model/_coordinate_descent.py:631: ConvergenceWarning: Objective did not converge. You might want to increase the number of iterations, check the scale of the features or consider increasing regularisation. Duality gap: 1.850e+14, tolerance: 1.129e+11\n",
            "  model = cd_fast.enet_coordinate_descent(\n"
          ]
        }
      ]
    },
    {
      "cell_type": "code",
      "source": [
        "ls.coef_"
      ],
      "metadata": {
        "colab": {
          "base_uri": "https://localhost:8080/"
        },
        "id": "OrhFN6PIKCmI",
        "outputId": "5b33d397-742a-496d-b386-fdfed37fe16a"
      },
      "execution_count": null,
      "outputs": [
        {
          "output_type": "execute_result",
          "data": {
            "text/plain": [
              "array([ 4.23890026e+04, -8.09846099e-01, -9.80488947e+04, -2.54856782e+04,\n",
              "        3.02257613e+05,  2.08057131e+04,  1.10019181e+06,  1.98142189e+06,\n",
              "       -1.99477834e+05,  0.00000000e+00, -3.36894698e+05, -1.65140802e+05,\n",
              "       -2.52588373e+05,  2.58941513e+04,  2.62308980e+03, -9.03367405e+04,\n",
              "        7.26922128e+05,  1.32018984e+06,  7.81671959e+05,  1.57980120e+05,\n",
              "        2.74540078e+06,  8.47993455e+05,  2.82898692e+04, -1.12159522e+05,\n",
              "        2.06395012e+06,  4.35975417e+05, -7.52550494e+04,  1.40712635e+05,\n",
              "       -1.70900485e+05, -7.70493369e+04, -1.79573320e+05,  3.75528289e+05,\n",
              "       -9.49109921e+04,  1.86108472e+06])"
            ]
          },
          "metadata": {},
          "execution_count": 57
        }
      ]
    },
    {
      "cell_type": "code",
      "source": [
        "ls.intercept_"
      ],
      "metadata": {
        "id": "wkzgt8XYYYgd",
        "outputId": "d16eda47-3bd0-4959-f340-7fc12d8bf1d0",
        "colab": {
          "base_uri": "https://localhost:8080/"
        }
      },
      "execution_count": null,
      "outputs": [
        {
          "output_type": "execute_result",
          "data": {
            "text/plain": [
              "-84681318.72187862"
            ]
          },
          "metadata": {},
          "execution_count": 58
        }
      ]
    },
    {
      "cell_type": "code",
      "source": [
        "eval_ls=r2_score(y_test,yhat_ls)\n",
        "print(eval_ls)"
      ],
      "metadata": {
        "id": "4JwjuCvfYPvv",
        "outputId": "46b22a94-9073-4107-a325-c9e0f9016171",
        "colab": {
          "base_uri": "https://localhost:8080/"
        }
      },
      "execution_count": null,
      "outputs": [
        {
          "output_type": "stream",
          "name": "stdout",
          "text": [
            "0.7046943478898469\n"
          ]
        }
      ]
    },
    {
      "cell_type": "markdown",
      "source": [
        "Both the Linear Regression model and Lasso Regression have similar r2_score but Lasso has the hyper Parameter if I increase the hyper parmeter to some extend the less weightage features will became to zero.So, I can use this which are feature are most important in the given dataset.    "
      ],
      "metadata": {
        "id": "6IWxUgtHHsKk"
      }
    },
    {
      "cell_type": "code",
      "source": [
        "ls=Lasso(10000)\n",
        "ls.fit(X_train,y_train)\n",
        "yhat_ls=ls.predict(X_test)"
      ],
      "metadata": {
        "id": "umxpeEYyJwe-"
      },
      "execution_count": null,
      "outputs": []
    },
    {
      "cell_type": "code",
      "source": [
        "ls.coef_"
      ],
      "metadata": {
        "colab": {
          "base_uri": "https://localhost:8080/"
        },
        "id": "1Em64VLNJ6cN",
        "outputId": "03c55203-58e0-4e74-962a-4e406a998f4e"
      },
      "execution_count": null,
      "outputs": [
        {
          "output_type": "execute_result",
          "data": {
            "text/plain": [
              "array([ 4.22348124e+04, -5.90095728e-01, -1.37928537e+05,  0.00000000e+00,\n",
              "        6.99457884e+05,  1.00445626e+04,  3.76002938e+04,  4.10746386e+05,\n",
              "       -0.00000000e+00,  0.00000000e+00, -0.00000000e+00, -0.00000000e+00,\n",
              "       -0.00000000e+00,  0.00000000e+00,  0.00000000e+00, -2.35718592e+04,\n",
              "        0.00000000e+00,  0.00000000e+00,  0.00000000e+00, -0.00000000e+00,\n",
              "        0.00000000e+00,  0.00000000e+00,  0.00000000e+00, -4.43437353e+04,\n",
              "        2.13612477e+05,  0.00000000e+00, -0.00000000e+00,  0.00000000e+00,\n",
              "       -0.00000000e+00, -0.00000000e+00, -3.47141873e+04,  1.13436524e+05,\n",
              "       -0.00000000e+00,  0.00000000e+00])"
            ]
          },
          "metadata": {},
          "execution_count": 61
        }
      ]
    },
    {
      "cell_type": "code",
      "source": [
        "ls.intercept_"
      ],
      "metadata": {
        "id": "WQS2qL3lYmsU",
        "outputId": "68158015-711c-4ccc-9e89-2ae1b4166e41",
        "colab": {
          "base_uri": "https://localhost:8080/"
        }
      },
      "execution_count": null,
      "outputs": [
        {
          "output_type": "execute_result",
          "data": {
            "text/plain": [
              "-84665307.59292142"
            ]
          },
          "metadata": {},
          "execution_count": 62
        }
      ]
    },
    {
      "cell_type": "code",
      "source": [
        "eval_ls1=r2_score(y_test,yhat_ls)\n",
        "print(eval_ls1)"
      ],
      "metadata": {
        "id": "Wr3P6HKmYy-s",
        "outputId": "4d952828-c7d0-494f-cc11-7d9b4d10ff70",
        "colab": {
          "base_uri": "https://localhost:8080/"
        }
      },
      "execution_count": null,
      "outputs": [
        {
          "output_type": "stream",
          "name": "stdout",
          "text": [
            "0.5376801755315975\n"
          ]
        }
      ]
    },
    {
      "cell_type": "markdown",
      "source": [
        "Now we can see the r2_score is decreased. It is due to the less weightage features or independent variable are in the dataset  "
      ],
      "metadata": {
        "id": "iGm80FO_ZChs"
      }
    },
    {
      "cell_type": "code",
      "source": [
        "X.columns"
      ],
      "metadata": {
        "colab": {
          "base_uri": "https://localhost:8080/"
        },
        "id": "SPRhLDFTKkaX",
        "outputId": "617ea07f-a5db-49bd-b622-6440711de676"
      },
      "execution_count": null,
      "outputs": [
        {
          "output_type": "execute_result",
          "data": {
            "text/plain": [
              "Index(['year', 'km_driven', 'fuel', 'seller_type', 'transmission', 'owner',\n",
              "       'Audi', 'BMW', 'Chevrolet', 'Daewoo', 'Datsun', 'Fiat', 'Force', 'Ford',\n",
              "       'Honda', 'Hyundai', 'Isuzu', 'Jaguar', 'Jeep', 'Kia', 'Land', 'MG',\n",
              "       'Mahindra', 'Maruti', 'Mercedes-Benz', 'Mitsubishi', 'Nissan',\n",
              "       'OpelCorsa', 'Renault', 'Skoda', 'Tata', 'Toyota', 'Volkswagen',\n",
              "       'Volvo'],\n",
              "      dtype='object')"
            ]
          },
          "metadata": {},
          "execution_count": 78
        }
      ]
    },
    {
      "cell_type": "code",
      "source": [
        "plt.bar(x=X.columns,height=ls.coef_)\n",
        "plt.xticks(rotation=90)\n",
        "plt.show()"
      ],
      "metadata": {
        "colab": {
          "base_uri": "https://localhost:8080/",
          "height": 521
        },
        "id": "CbIanJQTKKrX",
        "outputId": "4c27a2b2-bfe3-4a43-8dd8-9ca997c483f6"
      },
      "execution_count": null,
      "outputs": [
        {
          "output_type": "display_data",
          "data": {
            "text/plain": [
              "<Figure size 640x480 with 1 Axes>"
            ],
            "image/png": "[encoded data removed]"
          },
          "metadata": {}
        }
      ]
    },
    {
      "cell_type": "markdown",
      "source": [
        "With the help of the above diagram. I can see that if there is increase in the Km-driven there will be decrease in the selling_price."
      ],
      "metadata": {
        "id": "NTAQ_t4zZz9_"
      }
    }
  ],
  "metadata": {
    "colab": {
      "provenance": [],
      "authorship_tag": "ABX9TyP91JzPKqmKFIRSy1E8NHmq",
      "include_colab_link": true
    },
    "kernelspec": {
      "display_name": "Python 3",
      "name": "python3"
    },
    "language_info": {
      "name": "python"
    }
  },
  "nbformat": 4,
  "nbformat_minor": 0
}